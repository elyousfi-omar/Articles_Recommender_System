{
 "cells": [
  {
   "cell_type": "markdown",
   "id": "7e6596b7",
   "metadata": {
    "papermill": {
     "duration": 0.058051,
     "end_time": "2022-02-28T18:09:49.731232",
     "exception": false,
     "start_time": "2022-02-28T18:09:49.673181",
     "status": "completed"
    },
    "tags": []
   },
   "source": [
    "# Medium Articles Recommender System - Non-Negative Matrix Factorization\n",
    "`Omar El Yousfi`"
   ]
  },
  {
   "cell_type": "markdown",
   "id": "cbbb9527",
   "metadata": {
    "papermill": {
     "duration": 0.057393,
     "end_time": "2022-02-28T18:09:49.850990",
     "exception": false,
     "start_time": "2022-02-28T18:09:49.793597",
     "status": "completed"
    },
    "tags": []
   },
   "source": [
    "## Introduction:\n",
    "In order to build medium articles recommender system, I will be using Non-Negative Matrix Factorization method to cluster articles with same topics. <br/>\n",
    "Before building the ***Recommender System*** using NMF, I will have to perform some ***Natural Language Processing*** steps such as vectorizing data using TF-IDF. Also, it is important to perform ***Exploratory Data Analysis*** before diving into applying machine learning.<br/> \n",
    "Finally, I will sort the results based on number of claps (likes), because we want to recommend to readers good articles in the same topic that they are currently reading/interested in."
   ]
  },
  {
   "cell_type": "markdown",
   "id": "6eaa4076",
   "metadata": {
    "papermill": {
     "duration": 0.061052,
     "end_time": "2022-02-28T18:09:49.970660",
     "exception": false,
     "start_time": "2022-02-28T18:09:49.909608",
     "status": "completed"
    },
    "tags": []
   },
   "source": [
    "### Plan\n",
    "1. Exploratory Data Analysis\n",
    "2. Pre-Processing\n",
    "3. Building Recommender System"
   ]
  },
  {
   "cell_type": "markdown",
   "id": "7000dab6",
   "metadata": {
    "papermill": {
     "duration": 0.067342,
     "end_time": "2022-02-28T18:09:50.098065",
     "exception": false,
     "start_time": "2022-02-28T18:09:50.030723",
     "status": "completed"
    },
    "tags": []
   },
   "source": [
    "### Libraries and Data Importation"
   ]
  },
  {
   "cell_type": "code",
   "execution_count": 1,
   "id": "109d06be",
   "metadata": {
    "_cell_guid": "b1076dfc-b9ad-4769-8c92-a6c4dae69d19",
    "_uuid": "8f2839f25d086af736a60e9eeb907d3b93b6e0e5",
    "execution": {
     "iopub.execute_input": "2022-02-28T18:09:50.241801Z",
     "iopub.status.busy": "2022-02-28T18:09:50.241275Z",
     "iopub.status.idle": "2022-02-28T18:09:51.434307Z",
     "shell.execute_reply": "2022-02-28T18:09:51.434849Z",
     "shell.execute_reply.started": "2022-02-28T18:08:42.429031Z"
    },
    "papermill": {
     "duration": 1.262821,
     "end_time": "2022-02-28T18:09:51.435169",
     "exception": false,
     "start_time": "2022-02-28T18:09:50.172348",
     "status": "completed"
    },
    "tags": []
   },
   "outputs": [],
   "source": [
    "# Basic Data Libraries\n",
    "import numpy as np\n",
    "import pandas as pd\n",
    "\n",
    "# Data Visualization\n",
    "import matplotlib.pyplot as plt\n",
    "import seaborn as sns\n",
    "\n",
    "# RegEx\n",
    "import re\n",
    "\n",
    "# Pre processing and NMF\n",
    "from sklearn.feature_extraction.text import TfidfVectorizer\n",
    "from sklearn.preprocessing import normalize\n",
    "from sklearn.decomposition import NMF"
   ]
  },
  {
   "cell_type": "code",
   "execution_count": 2,
   "id": "77545721",
   "metadata": {
    "execution": {
     "iopub.execute_input": "2022-02-28T18:09:51.550535Z",
     "iopub.status.busy": "2022-02-28T18:09:51.549680Z",
     "iopub.status.idle": "2022-02-28T18:09:51.554416Z",
     "shell.execute_reply": "2022-02-28T18:09:51.553783Z",
     "shell.execute_reply.started": "2022-02-28T18:08:42.439254Z"
    },
    "papermill": {
     "duration": 0.064021,
     "end_time": "2022-02-28T18:09:51.554553",
     "exception": false,
     "start_time": "2022-02-28T18:09:51.490532",
     "status": "completed"
    },
    "tags": []
   },
   "outputs": [],
   "source": [
    "plt.rcParams['figure.figsize'] = (8,6)"
   ]
  },
  {
   "cell_type": "code",
   "execution_count": 3,
   "id": "cb8d2839",
   "metadata": {
    "execution": {
     "iopub.execute_input": "2022-02-28T18:09:51.674764Z",
     "iopub.status.busy": "2022-02-28T18:09:51.674145Z",
     "iopub.status.idle": "2022-02-28T18:09:51.789788Z",
     "shell.execute_reply": "2022-02-28T18:09:51.790332Z",
     "shell.execute_reply.started": "2022-02-28T18:08:42.452408Z"
    },
    "papermill": {
     "duration": 0.176047,
     "end_time": "2022-02-28T18:09:51.790490",
     "exception": false,
     "start_time": "2022-02-28T18:09:51.614443",
     "status": "completed"
    },
    "tags": []
   },
   "outputs": [
    {
     "data": {
      "text/html": [
       "<div>\n",
       "<style scoped>\n",
       "    .dataframe tbody tr th:only-of-type {\n",
       "        vertical-align: middle;\n",
       "    }\n",
       "\n",
       "    .dataframe tbody tr th {\n",
       "        vertical-align: top;\n",
       "    }\n",
       "\n",
       "    .dataframe thead th {\n",
       "        text-align: right;\n",
       "    }\n",
       "</style>\n",
       "<table border=\"1\" class=\"dataframe\">\n",
       "  <thead>\n",
       "    <tr style=\"text-align: right;\">\n",
       "      <th></th>\n",
       "      <th>id</th>\n",
       "      <th>url</th>\n",
       "      <th>title</th>\n",
       "      <th>subtitle</th>\n",
       "      <th>image</th>\n",
       "      <th>claps</th>\n",
       "      <th>responses</th>\n",
       "      <th>reading_time</th>\n",
       "      <th>publication</th>\n",
       "      <th>date</th>\n",
       "    </tr>\n",
       "  </thead>\n",
       "  <tbody>\n",
       "    <tr>\n",
       "      <th>0</th>\n",
       "      <td>1</td>\n",
       "      <td>https://towardsdatascience.com/a-beginners-gui...</td>\n",
       "      <td>A Beginner’s Guide to Word Embedding with Gens...</td>\n",
       "      <td>NaN</td>\n",
       "      <td>1.png</td>\n",
       "      <td>850</td>\n",
       "      <td>8</td>\n",
       "      <td>8</td>\n",
       "      <td>Towards Data Science</td>\n",
       "      <td>2019-05-30</td>\n",
       "    </tr>\n",
       "    <tr>\n",
       "      <th>1</th>\n",
       "      <td>2</td>\n",
       "      <td>https://towardsdatascience.com/hands-on-graph-...</td>\n",
       "      <td>Hands-on Graph Neural Networks with PyTorch &amp; ...</td>\n",
       "      <td>NaN</td>\n",
       "      <td>2.png</td>\n",
       "      <td>1100</td>\n",
       "      <td>11</td>\n",
       "      <td>9</td>\n",
       "      <td>Towards Data Science</td>\n",
       "      <td>2019-05-30</td>\n",
       "    </tr>\n",
       "    <tr>\n",
       "      <th>2</th>\n",
       "      <td>3</td>\n",
       "      <td>https://towardsdatascience.com/how-to-use-ggpl...</td>\n",
       "      <td>How to Use ggplot2 in Python</td>\n",
       "      <td>A Grammar of Graphics for Python</td>\n",
       "      <td>3.png</td>\n",
       "      <td>767</td>\n",
       "      <td>1</td>\n",
       "      <td>5</td>\n",
       "      <td>Towards Data Science</td>\n",
       "      <td>2019-05-30</td>\n",
       "    </tr>\n",
       "    <tr>\n",
       "      <th>3</th>\n",
       "      <td>4</td>\n",
       "      <td>https://towardsdatascience.com/databricks-how-...</td>\n",
       "      <td>Databricks: How to Save Files in CSV on Your L...</td>\n",
       "      <td>When I work on Python projects dealing…</td>\n",
       "      <td>4.jpeg</td>\n",
       "      <td>354</td>\n",
       "      <td>0</td>\n",
       "      <td>4</td>\n",
       "      <td>Towards Data Science</td>\n",
       "      <td>2019-05-30</td>\n",
       "    </tr>\n",
       "    <tr>\n",
       "      <th>4</th>\n",
       "      <td>5</td>\n",
       "      <td>https://towardsdatascience.com/a-step-by-step-...</td>\n",
       "      <td>A Step-by-Step Implementation of Gradient Desc...</td>\n",
       "      <td>One example of building neural…</td>\n",
       "      <td>5.jpeg</td>\n",
       "      <td>211</td>\n",
       "      <td>3</td>\n",
       "      <td>4</td>\n",
       "      <td>Towards Data Science</td>\n",
       "      <td>2019-05-30</td>\n",
       "    </tr>\n",
       "  </tbody>\n",
       "</table>\n",
       "</div>"
      ],
      "text/plain": [
       "   id                                                url  \\\n",
       "0   1  https://towardsdatascience.com/a-beginners-gui...   \n",
       "1   2  https://towardsdatascience.com/hands-on-graph-...   \n",
       "2   3  https://towardsdatascience.com/how-to-use-ggpl...   \n",
       "3   4  https://towardsdatascience.com/databricks-how-...   \n",
       "4   5  https://towardsdatascience.com/a-step-by-step-...   \n",
       "\n",
       "                                               title  \\\n",
       "0  A Beginner’s Guide to Word Embedding with Gens...   \n",
       "1  Hands-on Graph Neural Networks with PyTorch & ...   \n",
       "2                       How to Use ggplot2 in Python   \n",
       "3  Databricks: How to Save Files in CSV on Your L...   \n",
       "4  A Step-by-Step Implementation of Gradient Desc...   \n",
       "\n",
       "                                  subtitle   image  claps responses  \\\n",
       "0                                      NaN   1.png    850         8   \n",
       "1                                      NaN   2.png   1100        11   \n",
       "2         A Grammar of Graphics for Python   3.png    767         1   \n",
       "3  When I work on Python projects dealing…  4.jpeg    354         0   \n",
       "4          One example of building neural…  5.jpeg    211         3   \n",
       "\n",
       "   reading_time           publication        date  \n",
       "0             8  Towards Data Science  2019-05-30  \n",
       "1             9  Towards Data Science  2019-05-30  \n",
       "2             5  Towards Data Science  2019-05-30  \n",
       "3             4  Towards Data Science  2019-05-30  \n",
       "4             4  Towards Data Science  2019-05-30  "
      ]
     },
     "execution_count": 3,
     "metadata": {},
     "output_type": "execute_result"
    }
   ],
   "source": [
    "data = pd.read_csv(\"../input/medium-articles-dataset/medium_data.csv\")\n",
    "data.head()"
   ]
  },
  {
   "cell_type": "code",
   "execution_count": 4,
   "id": "19180ea5",
   "metadata": {
    "execution": {
     "iopub.execute_input": "2022-02-28T18:09:51.920130Z",
     "iopub.status.busy": "2022-02-28T18:09:51.919535Z",
     "iopub.status.idle": "2022-02-28T18:09:51.927525Z",
     "shell.execute_reply": "2022-02-28T18:09:51.928116Z",
     "shell.execute_reply.started": "2022-02-28T18:08:42.517113Z"
    },
    "papermill": {
     "duration": 0.074029,
     "end_time": "2022-02-28T18:09:51.928287",
     "exception": false,
     "start_time": "2022-02-28T18:09:51.854258",
     "status": "completed"
    },
    "tags": []
   },
   "outputs": [
    {
     "data": {
      "text/plain": [
       "'<strong class=\"markup--strong markup--h3-strong\">If You Learn to Write, You Can Change Your\\xa0Life.</strong>'"
      ]
     },
     "execution_count": 4,
     "metadata": {},
     "output_type": "execute_result"
    }
   ],
   "source": [
    "data.iloc[1003].title"
   ]
  },
  {
   "cell_type": "markdown",
   "id": "e072192f",
   "metadata": {
    "papermill": {
     "duration": 0.060612,
     "end_time": "2022-02-28T18:09:52.048448",
     "exception": false,
     "start_time": "2022-02-28T18:09:51.987836",
     "status": "completed"
    },
    "tags": []
   },
   "source": [
    "## Exploratory Data Analysis"
   ]
  },
  {
   "cell_type": "markdown",
   "id": "16e9901b",
   "metadata": {
    "papermill": {
     "duration": 0.06021,
     "end_time": "2022-02-28T18:09:52.168123",
     "exception": false,
     "start_time": "2022-02-28T18:09:52.107913",
     "status": "completed"
    },
    "tags": []
   },
   "source": [
    "In every project, I like to start off by a sanity check using info method, to see if the data has any missing values and/or wrong data types:"
   ]
  },
  {
   "cell_type": "code",
   "execution_count": 5,
   "id": "fc6bf202",
   "metadata": {
    "execution": {
     "iopub.execute_input": "2022-02-28T18:09:52.286509Z",
     "iopub.status.busy": "2022-02-28T18:09:52.285918Z",
     "iopub.status.idle": "2022-02-28T18:09:52.309672Z",
     "shell.execute_reply": "2022-02-28T18:09:52.309053Z",
     "shell.execute_reply.started": "2022-02-28T18:08:42.526517Z"
    },
    "papermill": {
     "duration": 0.083912,
     "end_time": "2022-02-28T18:09:52.309804",
     "exception": false,
     "start_time": "2022-02-28T18:09:52.225892",
     "status": "completed"
    },
    "tags": []
   },
   "outputs": [
    {
     "name": "stdout",
     "output_type": "stream",
     "text": [
      "<class 'pandas.core.frame.DataFrame'>\n",
      "RangeIndex: 6508 entries, 0 to 6507\n",
      "Data columns (total 10 columns):\n",
      " #   Column        Non-Null Count  Dtype \n",
      "---  ------        --------------  ----- \n",
      " 0   id            6508 non-null   int64 \n",
      " 1   url           6508 non-null   object\n",
      " 2   title         6508 non-null   object\n",
      " 3   subtitle      3479 non-null   object\n",
      " 4   image         6361 non-null   object\n",
      " 5   claps         6508 non-null   int64 \n",
      " 6   responses     6508 non-null   object\n",
      " 7   reading_time  6508 non-null   int64 \n",
      " 8   publication   6508 non-null   object\n",
      " 9   date          6508 non-null   object\n",
      "dtypes: int64(3), object(7)\n",
      "memory usage: 508.6+ KB\n"
     ]
    }
   ],
   "source": [
    "data.info()"
   ]
  },
  {
   "cell_type": "markdown",
   "id": "7cdc9d76",
   "metadata": {
    "papermill": {
     "duration": 0.058527,
     "end_time": "2022-02-28T18:09:52.427862",
     "exception": false,
     "start_time": "2022-02-28T18:09:52.369335",
     "status": "completed"
    },
    "tags": []
   },
   "source": [
    "#### Data types\n",
    "**responses:** This column needs to be an integer, after a quick check, I found out that the column contains a \"Read\" value, which needs to be dropped. <br/>\n",
    "**date:** I do not plan to use date column, but it might be an option in the future to recommend only most recent articles, so I will be fixing this data type. \n",
    "#### Missing values\n",
    "We can see that subtitle column has multiple missing values, which I will be treating in the pre processing section. Finally, image column has missing values too, but we won't be using to whatsoever, so it is okay to just drop it."
   ]
  },
  {
   "cell_type": "code",
   "execution_count": 6,
   "id": "cca40ad4",
   "metadata": {
    "execution": {
     "iopub.execute_input": "2022-02-28T18:09:52.548409Z",
     "iopub.status.busy": "2022-02-28T18:09:52.547523Z",
     "iopub.status.idle": "2022-02-28T18:09:52.553623Z",
     "shell.execute_reply": "2022-02-28T18:09:52.554266Z",
     "shell.execute_reply.started": "2022-02-28T18:08:42.548460Z"
    },
    "papermill": {
     "duration": 0.067743,
     "end_time": "2022-02-28T18:09:52.554418",
     "exception": false,
     "start_time": "2022-02-28T18:09:52.486675",
     "status": "completed"
    },
    "tags": []
   },
   "outputs": [
    {
     "data": {
      "text/plain": [
       "array(['8', '11', '1', '0', '3', '2', '60', '27', '58', '13', '6', '15',\n",
       "       '5', '4', '19', '10', '9', '7', '16', '76', '33', '21', '28', '14',\n",
       "       '24', '17', '78', '30', '12', '74', '50', '18', '22', '48', '26',\n",
       "       '20', '35', '51', '25', '62', '53', '120', '41', 'Read', '34',\n",
       "       '86', '82', '63', '46', '170', '45', '23', '32', '29', '52', '117'],\n",
       "      dtype=object)"
      ]
     },
     "execution_count": 6,
     "metadata": {},
     "output_type": "execute_result"
    }
   ],
   "source": [
    "data[\"responses\"].unique()"
   ]
  },
  {
   "cell_type": "code",
   "execution_count": 7,
   "id": "19b981f0",
   "metadata": {
    "execution": {
     "iopub.execute_input": "2022-02-28T18:09:52.673613Z",
     "iopub.status.busy": "2022-02-28T18:09:52.672683Z",
     "iopub.status.idle": "2022-02-28T18:09:52.686333Z",
     "shell.execute_reply": "2022-02-28T18:09:52.686748Z",
     "shell.execute_reply.started": "2022-02-28T18:08:42.556968Z"
    },
    "papermill": {
     "duration": 0.075662,
     "end_time": "2022-02-28T18:09:52.686897",
     "exception": false,
     "start_time": "2022-02-28T18:09:52.611235",
     "status": "completed"
    },
    "tags": []
   },
   "outputs": [
    {
     "data": {
      "text/html": [
       "<div>\n",
       "<style scoped>\n",
       "    .dataframe tbody tr th:only-of-type {\n",
       "        vertical-align: middle;\n",
       "    }\n",
       "\n",
       "    .dataframe tbody tr th {\n",
       "        vertical-align: top;\n",
       "    }\n",
       "\n",
       "    .dataframe thead th {\n",
       "        text-align: right;\n",
       "    }\n",
       "</style>\n",
       "<table border=\"1\" class=\"dataframe\">\n",
       "  <thead>\n",
       "    <tr style=\"text-align: right;\">\n",
       "      <th></th>\n",
       "      <th>id</th>\n",
       "      <th>url</th>\n",
       "      <th>title</th>\n",
       "      <th>subtitle</th>\n",
       "      <th>image</th>\n",
       "      <th>claps</th>\n",
       "      <th>responses</th>\n",
       "      <th>reading_time</th>\n",
       "      <th>publication</th>\n",
       "      <th>date</th>\n",
       "    </tr>\n",
       "  </thead>\n",
       "  <tbody>\n",
       "    <tr>\n",
       "      <th>3977</th>\n",
       "      <td>3978</td>\n",
       "      <td>https://medium.com/datadriveninvestor/what-do-...</td>\n",
       "      <td>What do you think of the Open Group’s Data Sci...</td>\n",
       "      <td>NaN</td>\n",
       "      <td>3978.jpg</td>\n",
       "      <td>73</td>\n",
       "      <td>Read</td>\n",
       "      <td>3</td>\n",
       "      <td>Data Driven Investor</td>\n",
       "      <td>2019-05-24</td>\n",
       "    </tr>\n",
       "    <tr>\n",
       "      <th>6392</th>\n",
       "      <td>6393</td>\n",
       "      <td>https://uxdesign.cc/please-please-please-tell-...</td>\n",
       "      <td>UX doesn’t discriminate, it targets behaviours</td>\n",
       "      <td>NaN</td>\n",
       "      <td>NaN</td>\n",
       "      <td>74</td>\n",
       "      <td>Read</td>\n",
       "      <td>5</td>\n",
       "      <td>UX Collective</td>\n",
       "      <td>2019-12-05</td>\n",
       "    </tr>\n",
       "  </tbody>\n",
       "</table>\n",
       "</div>"
      ],
      "text/plain": [
       "        id                                                url  \\\n",
       "3977  3978  https://medium.com/datadriveninvestor/what-do-...   \n",
       "6392  6393  https://uxdesign.cc/please-please-please-tell-...   \n",
       "\n",
       "                                                  title subtitle     image  \\\n",
       "3977  What do you think of the Open Group’s Data Sci...      NaN  3978.jpg   \n",
       "6392     UX doesn’t discriminate, it targets behaviours      NaN       NaN   \n",
       "\n",
       "      claps responses  reading_time           publication        date  \n",
       "3977     73      Read             3  Data Driven Investor  2019-05-24  \n",
       "6392     74      Read             5         UX Collective  2019-12-05  "
      ]
     },
     "execution_count": 7,
     "metadata": {},
     "output_type": "execute_result"
    }
   ],
   "source": [
    "data[data[\"responses\"]==\"Read\"]"
   ]
  },
  {
   "cell_type": "code",
   "execution_count": 8,
   "id": "03f16ecc",
   "metadata": {
    "execution": {
     "iopub.execute_input": "2022-02-28T18:09:52.810117Z",
     "iopub.status.busy": "2022-02-28T18:09:52.809484Z",
     "iopub.status.idle": "2022-02-28T18:09:52.908558Z",
     "shell.execute_reply": "2022-02-28T18:09:52.909045Z",
     "shell.execute_reply.started": "2022-02-28T18:08:42.578462Z"
    },
    "papermill": {
     "duration": 0.161941,
     "end_time": "2022-02-28T18:09:52.909211",
     "exception": false,
     "start_time": "2022-02-28T18:09:52.747270",
     "status": "completed"
    },
    "tags": []
   },
   "outputs": [
    {
     "data": {
      "text/html": [
       "<style type=\"text/css\">\n",
       "#T_265d7_row0_col0, #T_265d7_row1_col0, #T_265d7_row4_col0, #T_265d7_row5_col0, #T_265d7_row6_col0 {\n",
       "  background-color: #00441b;\n",
       "  color: #f1f1f1;\n",
       "}\n",
       "#T_265d7_row2_col0 {\n",
       "  background-color: #f7fcf5;\n",
       "  color: #000000;\n",
       "}\n",
       "#T_265d7_row3_col0 {\n",
       "  background-color: #005321;\n",
       "  color: #f1f1f1;\n",
       "}\n",
       "</style>\n",
       "<table id=\"T_265d7_\">\n",
       "  <thead>\n",
       "    <tr>\n",
       "      <th class=\"blank level0\" >&nbsp;</th>\n",
       "      <th class=\"col_heading level0 col0\" >count</th>\n",
       "      <th class=\"col_heading level0 col1\" >unique</th>\n",
       "      <th class=\"col_heading level0 col2\" >top</th>\n",
       "      <th class=\"col_heading level0 col3\" >freq</th>\n",
       "    </tr>\n",
       "  </thead>\n",
       "  <tbody>\n",
       "    <tr>\n",
       "      <th id=\"T_265d7_level0_row0\" class=\"row_heading level0 row0\" >url</th>\n",
       "      <td id=\"T_265d7_row0_col0\" class=\"data row0 col0\" >6508</td>\n",
       "      <td id=\"T_265d7_row0_col1\" class=\"data row0 col1\" >6508</td>\n",
       "      <td id=\"T_265d7_row0_col2\" class=\"data row0 col2\" >https://towardsdatascience.com/a-beginners-guide-to-word-embedding-with-gensim-word2vec-model-5970fa56cc92</td>\n",
       "      <td id=\"T_265d7_row0_col3\" class=\"data row0 col3\" >1</td>\n",
       "    </tr>\n",
       "    <tr>\n",
       "      <th id=\"T_265d7_level0_row1\" class=\"row_heading level0 row1\" >title</th>\n",
       "      <td id=\"T_265d7_row1_col0\" class=\"data row1 col0\" >6508</td>\n",
       "      <td id=\"T_265d7_row1_col1\" class=\"data row1 col1\" >6504</td>\n",
       "      <td id=\"T_265d7_row1_col2\" class=\"data row1 col2\" >Lost in translation</td>\n",
       "      <td id=\"T_265d7_row1_col3\" class=\"data row1 col3\" >2</td>\n",
       "    </tr>\n",
       "    <tr>\n",
       "      <th id=\"T_265d7_level0_row2\" class=\"row_heading level0 row2\" >subtitle</th>\n",
       "      <td id=\"T_265d7_row2_col0\" class=\"data row2 col0\" >3479</td>\n",
       "      <td id=\"T_265d7_row2_col1\" class=\"data row2 col1\" >3470</td>\n",
       "      <td id=\"T_265d7_row2_col2\" class=\"data row2 col2\" ><em class=\"markup--em markup--h4-em\">A weekly selection of design links, brought to you by your friends at the UX Collective.</em></td>\n",
       "      <td id=\"T_265d7_row2_col3\" class=\"data row2 col3\" >5</td>\n",
       "    </tr>\n",
       "    <tr>\n",
       "      <th id=\"T_265d7_level0_row3\" class=\"row_heading level0 row3\" >image</th>\n",
       "      <td id=\"T_265d7_row3_col0\" class=\"data row3 col0\" >6361</td>\n",
       "      <td id=\"T_265d7_row3_col1\" class=\"data row3 col1\" >6361</td>\n",
       "      <td id=\"T_265d7_row3_col2\" class=\"data row3 col2\" >1.png</td>\n",
       "      <td id=\"T_265d7_row3_col3\" class=\"data row3 col3\" >1</td>\n",
       "    </tr>\n",
       "    <tr>\n",
       "      <th id=\"T_265d7_level0_row4\" class=\"row_heading level0 row4\" >responses</th>\n",
       "      <td id=\"T_265d7_row4_col0\" class=\"data row4 col0\" >6508</td>\n",
       "      <td id=\"T_265d7_row4_col1\" class=\"data row4 col1\" >56</td>\n",
       "      <td id=\"T_265d7_row4_col2\" class=\"data row4 col2\" >0</td>\n",
       "      <td id=\"T_265d7_row4_col3\" class=\"data row4 col3\" >3396</td>\n",
       "    </tr>\n",
       "    <tr>\n",
       "      <th id=\"T_265d7_level0_row5\" class=\"row_heading level0 row5\" >publication</th>\n",
       "      <td id=\"T_265d7_row5_col0\" class=\"data row5 col0\" >6508</td>\n",
       "      <td id=\"T_265d7_row5_col1\" class=\"data row5 col1\" >7</td>\n",
       "      <td id=\"T_265d7_row5_col2\" class=\"data row5 col2\" >The Startup</td>\n",
       "      <td id=\"T_265d7_row5_col3\" class=\"data row5 col3\" >3041</td>\n",
       "    </tr>\n",
       "    <tr>\n",
       "      <th id=\"T_265d7_level0_row6\" class=\"row_heading level0 row6\" >date</th>\n",
       "      <td id=\"T_265d7_row6_col0\" class=\"data row6 col0\" >6508</td>\n",
       "      <td id=\"T_265d7_row6_col1\" class=\"data row6 col1\" >50</td>\n",
       "      <td id=\"T_265d7_row6_col2\" class=\"data row6 col2\" >2019-10-21</td>\n",
       "      <td id=\"T_265d7_row6_col3\" class=\"data row6 col3\" >197</td>\n",
       "    </tr>\n",
       "  </tbody>\n",
       "</table>\n"
      ],
      "text/plain": [
       "<pandas.io.formats.style.Styler at 0x7f6ba3d97b10>"
      ]
     },
     "execution_count": 8,
     "metadata": {},
     "output_type": "execute_result"
    }
   ],
   "source": [
    "data.describe(include=object).T.style.background_gradient(subset=[\"count\"], cmap=\"Greens\")"
   ]
  },
  {
   "cell_type": "markdown",
   "id": "3728ff36",
   "metadata": {
    "papermill": {
     "duration": 0.062201,
     "end_time": "2022-02-28T18:09:53.033428",
     "exception": false,
     "start_time": "2022-02-28T18:09:52.971227",
     "status": "completed"
    },
    "tags": []
   },
   "source": [
    "We can see that \"The Startup\" is the most frequent publication in our dataset, 21th of octobre 2019 had the most number of articles. We can also see that 52% of articles did not have any reponses."
   ]
  },
  {
   "cell_type": "code",
   "execution_count": 9,
   "id": "57938c9d",
   "metadata": {
    "execution": {
     "iopub.execute_input": "2022-02-28T18:09:53.159543Z",
     "iopub.status.busy": "2022-02-28T18:09:53.158929Z",
     "iopub.status.idle": "2022-02-28T18:09:53.190094Z",
     "shell.execute_reply": "2022-02-28T18:09:53.190727Z",
     "shell.execute_reply.started": "2022-02-28T18:08:42.628261Z"
    },
    "papermill": {
     "duration": 0.095679,
     "end_time": "2022-02-28T18:09:53.190895",
     "exception": false,
     "start_time": "2022-02-28T18:09:53.095216",
     "status": "completed"
    },
    "tags": []
   },
   "outputs": [
    {
     "data": {
      "text/html": [
       "<style type=\"text/css\">\n",
       "#T_14c23_row0_col0, #T_14c23_row1_col0, #T_14c23_row1_col3, #T_14c23_row2_col0, #T_14c23_row2_col1, #T_14c23_row2_col2, #T_14c23_row2_col3, #T_14c23_row2_col4, #T_14c23_row2_col5, #T_14c23_row2_col6, #T_14c23_row2_col7 {\n",
       "  background-color: #fff7fb;\n",
       "  color: #000000;\n",
       "}\n",
       "#T_14c23_row0_col1, #T_14c23_row0_col2, #T_14c23_row0_col3, #T_14c23_row0_col4, #T_14c23_row0_col5, #T_14c23_row0_col6, #T_14c23_row1_col7 {\n",
       "  background-color: #023858;\n",
       "  color: #f1f1f1;\n",
       "}\n",
       "#T_14c23_row0_col7 {\n",
       "  background-color: #e2dfee;\n",
       "  color: #000000;\n",
       "}\n",
       "#T_14c23_row1_col1 {\n",
       "  background-color: #f1ebf4;\n",
       "  color: #000000;\n",
       "}\n",
       "#T_14c23_row1_col2 {\n",
       "  background-color: #71a8ce;\n",
       "  color: #f1f1f1;\n",
       "}\n",
       "#T_14c23_row1_col4 {\n",
       "  background-color: #fbf3f9;\n",
       "  color: #000000;\n",
       "}\n",
       "#T_14c23_row1_col5 {\n",
       "  background-color: #faf3f9;\n",
       "  color: #000000;\n",
       "}\n",
       "#T_14c23_row1_col6 {\n",
       "  background-color: #f7f0f7;\n",
       "  color: #000000;\n",
       "}\n",
       "</style>\n",
       "<table id=\"T_14c23_\">\n",
       "  <thead>\n",
       "    <tr>\n",
       "      <th class=\"blank level0\" >&nbsp;</th>\n",
       "      <th class=\"col_heading level0 col0\" >count</th>\n",
       "      <th class=\"col_heading level0 col1\" >mean</th>\n",
       "      <th class=\"col_heading level0 col2\" >std</th>\n",
       "      <th class=\"col_heading level0 col3\" >min</th>\n",
       "      <th class=\"col_heading level0 col4\" >25%</th>\n",
       "      <th class=\"col_heading level0 col5\" >50%</th>\n",
       "      <th class=\"col_heading level0 col6\" >75%</th>\n",
       "      <th class=\"col_heading level0 col7\" >max</th>\n",
       "    </tr>\n",
       "  </thead>\n",
       "  <tbody>\n",
       "    <tr>\n",
       "      <th id=\"T_14c23_level0_row0\" class=\"row_heading level0 row0\" >id</th>\n",
       "      <td id=\"T_14c23_row0_col0\" class=\"data row0 col0\" >6508.000000</td>\n",
       "      <td id=\"T_14c23_row0_col1\" class=\"data row0 col1\" >3254.500000</td>\n",
       "      <td id=\"T_14c23_row0_col2\" class=\"data row0 col2\" >1878.842108</td>\n",
       "      <td id=\"T_14c23_row0_col3\" class=\"data row0 col3\" >1.000000</td>\n",
       "      <td id=\"T_14c23_row0_col4\" class=\"data row0 col4\" >1627.750000</td>\n",
       "      <td id=\"T_14c23_row0_col5\" class=\"data row0 col5\" >3254.500000</td>\n",
       "      <td id=\"T_14c23_row0_col6\" class=\"data row0 col6\" >4881.250000</td>\n",
       "      <td id=\"T_14c23_row0_col7\" class=\"data row0 col7\" >6508.000000</td>\n",
       "    </tr>\n",
       "    <tr>\n",
       "      <th id=\"T_14c23_level0_row1\" class=\"row_heading level0 row1\" >claps</th>\n",
       "      <td id=\"T_14c23_row1_col0\" class=\"data row1 col0\" >6508.000000</td>\n",
       "      <td id=\"T_14c23_row1_col1\" class=\"data row1 col1\" >311.076060</td>\n",
       "      <td id=\"T_14c23_row1_col2\" class=\"data row1 col2\" >950.789896</td>\n",
       "      <td id=\"T_14c23_row1_col3\" class=\"data row1 col3\" >0.000000</td>\n",
       "      <td id=\"T_14c23_row1_col4\" class=\"data row1 col4\" >54.000000</td>\n",
       "      <td id=\"T_14c23_row1_col5\" class=\"data row1 col5\" >115.000000</td>\n",
       "      <td id=\"T_14c23_row1_col6\" class=\"data row1 col6\" >268.250000</td>\n",
       "      <td id=\"T_14c23_row1_col7\" class=\"data row1 col7\" >38000.000000</td>\n",
       "    </tr>\n",
       "    <tr>\n",
       "      <th id=\"T_14c23_level0_row2\" class=\"row_heading level0 row2\" >reading_time</th>\n",
       "      <td id=\"T_14c23_row2_col0\" class=\"data row2 col0\" >6508.000000</td>\n",
       "      <td id=\"T_14c23_row2_col1\" class=\"data row2 col1\" >6.134911</td>\n",
       "      <td id=\"T_14c23_row2_col2\" class=\"data row2 col2\" >3.231918</td>\n",
       "      <td id=\"T_14c23_row2_col3\" class=\"data row2 col3\" >0.000000</td>\n",
       "      <td id=\"T_14c23_row2_col4\" class=\"data row2 col4\" >4.000000</td>\n",
       "      <td id=\"T_14c23_row2_col5\" class=\"data row2 col5\" >5.000000</td>\n",
       "      <td id=\"T_14c23_row2_col6\" class=\"data row2 col6\" >7.000000</td>\n",
       "      <td id=\"T_14c23_row2_col7\" class=\"data row2 col7\" >55.000000</td>\n",
       "    </tr>\n",
       "  </tbody>\n",
       "</table>\n"
      ],
      "text/plain": [
       "<pandas.io.formats.style.Styler at 0x7f6ba83a5e10>"
      ]
     },
     "execution_count": 9,
     "metadata": {},
     "output_type": "execute_result"
    }
   ],
   "source": [
    "data.describe().T.style.background_gradient(cmap='PuBu')"
   ]
  },
  {
   "cell_type": "markdown",
   "id": "f2c1a20c",
   "metadata": {
    "papermill": {
     "duration": 0.060879,
     "end_time": "2022-02-28T18:09:53.312532",
     "exception": false,
     "start_time": "2022-02-28T18:09:53.251653",
     "status": "completed"
    },
    "tags": []
   },
   "source": [
    "Looking at this summary statistics, we can see that the average reading time is 6 minutes, while we can find an article that has a reading time of 55 minutes! Whoever is reading that article deserves a medal. From the mean and median, it looks like the reading time column is normally distributed, but is it? I like to check for distribution type using Emperical Cumulative Distribution Function (ECDF). <br/>\n",
    "**PS:** You can use ecdfplot of seaborn instead of creating a manual visualization."
   ]
  },
  {
   "cell_type": "code",
   "execution_count": 10,
   "id": "67650390",
   "metadata": {
    "execution": {
     "iopub.execute_input": "2022-02-28T18:09:53.435270Z",
     "iopub.status.busy": "2022-02-28T18:09:53.434674Z",
     "iopub.status.idle": "2022-02-28T18:09:53.438526Z",
     "shell.execute_reply": "2022-02-28T18:09:53.438977Z",
     "shell.execute_reply.started": "2022-02-28T18:08:42.974706Z"
    },
    "papermill": {
     "duration": 0.06644,
     "end_time": "2022-02-28T18:09:53.439154",
     "exception": false,
     "start_time": "2022-02-28T18:09:53.372714",
     "status": "completed"
    },
    "tags": []
   },
   "outputs": [],
   "source": [
    "def ecdf(data):\n",
    "    \"\"\"Compute ECDF for a one-dimensional array of measurements.\"\"\"\n",
    "    # Number of data points: n\n",
    "    n = len(data)\n",
    "\n",
    "    # x-data for the ECDF: x\n",
    "    x = np.sort(data)\n",
    "\n",
    "    # y-data for the ECDF: y\n",
    "    y = np.arange(1, n+1) / n\n",
    "\n",
    "    return x, y"
   ]
  },
  {
   "cell_type": "markdown",
   "id": "38317469",
   "metadata": {
    "papermill": {
     "duration": 0.060262,
     "end_time": "2022-02-28T18:09:53.559794",
     "exception": false,
     "start_time": "2022-02-28T18:09:53.499532",
     "status": "completed"
    },
    "tags": []
   },
   "source": [
    "What I usually do is plot ecdf of our column, alongside a a theoritcal distribution using statistics of our column. In this example I will test if our data is normally distributed first, so I will use theoritcal sample using the mean and standard deviation of reading time column, and compare it to our ecdf."
   ]
  },
  {
   "cell_type": "code",
   "execution_count": 11,
   "id": "fb96c0c8",
   "metadata": {
    "execution": {
     "iopub.execute_input": "2022-02-28T18:09:53.680612Z",
     "iopub.status.busy": "2022-02-28T18:09:53.680057Z",
     "iopub.status.idle": "2022-02-28T18:09:53.891582Z",
     "shell.execute_reply": "2022-02-28T18:09:53.892086Z",
     "shell.execute_reply.started": "2022-02-28T18:08:42.986002Z"
    },
    "papermill": {
     "duration": 0.273651,
     "end_time": "2022-02-28T18:09:53.892263",
     "exception": false,
     "start_time": "2022-02-28T18:09:53.618612",
     "status": "completed"
    },
    "tags": []
   },
   "outputs": [
    {
     "data": {
      "image/png": "[encoded data removed]",
      "text/plain": [
       "<Figure size 576x432 with 1 Axes>"
      ]
     },
     "metadata": {
      "needs_background": "light"
     },
     "output_type": "display_data"
    }
   ],
   "source": [
    "sample = np.random.normal(data[\"reading_time\"].mean(), data[\"reading_time\"].std(), size=10000)\n",
    "\n",
    "x, y = ecdf(data[\"reading_time\"])\n",
    "x_theor, y_theor = ecdf(sample)\n",
    "\n",
    "plt.plot(x, y, marker=\".\", linestyle=\"none\", label=\"Data Distribution\")\n",
    "plt.plot(x_theor, y_theor, color=\"red\", label=\"Theoritical Normal Distribution\")\n",
    "\n",
    "# ALWAYS LABEL PLOTS\n",
    "plt.xlabel(\"Reading time\")\n",
    "plt.ylabel(\"ECDF\")\n",
    "plt.title(\"ECDF of reading_time\")\n",
    "plt.legend()\n",
    "\n",
    "plt.show()"
   ]
  },
  {
   "cell_type": "markdown",
   "id": "fb604183",
   "metadata": {
    "papermill": {
     "duration": 0.059863,
     "end_time": "2022-02-28T18:09:54.014329",
     "exception": false,
     "start_time": "2022-02-28T18:09:53.954466",
     "status": "completed"
    },
    "tags": []
   },
   "source": [
    "Another way to check if data is normally distributed, is performing Shapiro-Wilk test. We can perform the test using shapiro function of scipy.stats module"
   ]
  },
  {
   "cell_type": "code",
   "execution_count": 12,
   "id": "13d51687",
   "metadata": {
    "execution": {
     "iopub.execute_input": "2022-02-28T18:09:54.142521Z",
     "iopub.status.busy": "2022-02-28T18:09:54.141584Z",
     "iopub.status.idle": "2022-02-28T18:09:54.151632Z",
     "shell.execute_reply": "2022-02-28T18:09:54.152163Z",
     "shell.execute_reply.started": "2022-02-28T18:08:43.242683Z"
    },
    "papermill": {
     "duration": 0.075593,
     "end_time": "2022-02-28T18:09:54.152321",
     "exception": false,
     "start_time": "2022-02-28T18:09:54.076728",
     "status": "completed"
    },
    "tags": []
   },
   "outputs": [
    {
     "name": "stderr",
     "output_type": "stream",
     "text": [
      "/opt/conda/lib/python3.7/site-packages/scipy/stats/morestats.py:1760: UserWarning: p-value may not be accurate for N > 5000.\n",
      "  warnings.warn(\"p-value may not be accurate for N > 5000.\")\n"
     ]
    },
    {
     "data": {
      "text/plain": [
       "ShapiroResult(statistic=0.8009652495384216, pvalue=0.0)"
      ]
     },
     "execution_count": 12,
     "metadata": {},
     "output_type": "execute_result"
    }
   ],
   "source": [
    "from scipy.stats import shapiro\n",
    "shapiro(data[\"reading_time\"])"
   ]
  },
  {
   "cell_type": "markdown",
   "id": "92673534",
   "metadata": {
    "papermill": {
     "duration": 0.062219,
     "end_time": "2022-02-28T18:09:54.277352",
     "exception": false,
     "start_time": "2022-02-28T18:09:54.215133",
     "status": "completed"
    },
    "tags": []
   },
   "source": [
    "From the plot we can tell that the data is not normally distributed, and the shapiro-wilk test approved our hypothesis since the p-value is 0.73 which is less than the threshold 0.05 (5%) then we fail to reject the null hypothesis. We do not have sufficient evidence to say that sample does come from a normal distribution."
   ]
  },
  {
   "cell_type": "markdown",
   "id": "a4b837bf",
   "metadata": {
    "papermill": {
     "duration": 0.059981,
     "end_time": "2022-02-28T18:09:54.400695",
     "exception": false,
     "start_time": "2022-02-28T18:09:54.340714",
     "status": "completed"
    },
    "tags": []
   },
   "source": [
    "Before testing other distributions, lets visualize histogram of the data:"
   ]
  },
  {
   "cell_type": "code",
   "execution_count": 13,
   "id": "2d38c6c6",
   "metadata": {
    "execution": {
     "iopub.execute_input": "2022-02-28T18:09:54.528119Z",
     "iopub.status.busy": "2022-02-28T18:09:54.527186Z",
     "iopub.status.idle": "2022-02-28T18:09:54.815090Z",
     "shell.execute_reply": "2022-02-28T18:09:54.814603Z",
     "shell.execute_reply.started": "2022-02-28T18:08:43.250851Z"
    },
    "papermill": {
     "duration": 0.352948,
     "end_time": "2022-02-28T18:09:54.815217",
     "exception": false,
     "start_time": "2022-02-28T18:09:54.462269",
     "status": "completed"
    },
    "tags": []
   },
   "outputs": [
    {
     "data": {
      "image/png": "[encoded data removed]",
      "text/plain": [
       "<Figure size 576x432 with 1 Axes>"
      ]
     },
     "metadata": {
      "needs_background": "light"
     },
     "output_type": "display_data"
    }
   ],
   "source": [
    "plt.hist(data[\"reading_time\"], bins=100, stacked=True)\n",
    "\n",
    "plt.title(\"Reading time Histogram\")\n",
    "plt.xlabel(\"Reading time\")\n",
    "plt.ylabel(\"Frequency\")\n",
    "plt.show()"
   ]
  },
  {
   "cell_type": "markdown",
   "id": "bcd6bbdb",
   "metadata": {
    "papermill": {
     "duration": 0.064384,
     "end_time": "2022-02-28T18:09:54.943456",
     "exception": false,
     "start_time": "2022-02-28T18:09:54.879072",
     "status": "completed"
    },
    "tags": []
   },
   "source": [
    "First of all, data is obviously not normally distributed, also from the histogram we can see that reading time is a discrete variable *(Check following histogram for a comparaison between histograms of discrete and continous variables)*. For that reason, I will test poisson distribution."
   ]
  },
  {
   "cell_type": "code",
   "execution_count": 14,
   "id": "bdb5f7d6",
   "metadata": {
    "execution": {
     "iopub.execute_input": "2022-02-28T18:09:55.074916Z",
     "iopub.status.busy": "2022-02-28T18:09:55.074298Z",
     "iopub.status.idle": "2022-02-28T18:09:55.737164Z",
     "shell.execute_reply": "2022-02-28T18:09:55.737592Z",
     "shell.execute_reply.started": "2022-02-28T18:08:43.614210Z"
    },
    "papermill": {
     "duration": 0.729627,
     "end_time": "2022-02-28T18:09:55.737770",
     "exception": false,
     "start_time": "2022-02-28T18:09:55.008143",
     "status": "completed"
    },
    "tags": []
   },
   "outputs": [
    {
     "data": {
      "image/png": "[encoded data removed]",
      "text/plain": [
       "<Figure size 720x432 with 2 Axes>"
      ]
     },
     "metadata": {
      "needs_background": "light"
     },
     "output_type": "display_data"
    }
   ],
   "source": [
    "plt.figure(figsize=(10, 6))\n",
    "\n",
    "\n",
    "plt.subplot(1, 2, 1)\n",
    "plt.hist(np.random.exponential(data[\"reading_time\"].mean(), size=6000), bins=100)\n",
    "plt.title(\"Exponential Distribution (continous)\")\n",
    "plt.xlabel(\"Reading time\")\n",
    "\n",
    "plt.subplot(1, 2, 2)\n",
    "plt.hist(data[\"reading_time\"], bins = 100)\n",
    "plt.title(\"Poisson Distribution (discrete)\")\n",
    "plt.xlabel(\"Reading time\")\n",
    "\n",
    "plt.suptitle(\"Continous vs Discrete\")\n",
    "plt.show()"
   ]
  },
  {
   "cell_type": "code",
   "execution_count": 15,
   "id": "548dae50",
   "metadata": {
    "execution": {
     "iopub.execute_input": "2022-02-28T18:09:55.877353Z",
     "iopub.status.busy": "2022-02-28T18:09:55.876293Z",
     "iopub.status.idle": "2022-02-28T18:09:56.103361Z",
     "shell.execute_reply": "2022-02-28T18:09:56.103861Z",
     "shell.execute_reply.started": "2022-02-28T18:08:44.275424Z"
    },
    "papermill": {
     "duration": 0.303298,
     "end_time": "2022-02-28T18:09:56.104060",
     "exception": false,
     "start_time": "2022-02-28T18:09:55.800762",
     "status": "completed"
    },
    "tags": []
   },
   "outputs": [
    {
     "data": {
      "image/png": "[encoded data removed]",
      "text/plain": [
       "<Figure size 576x432 with 1 Axes>"
      ]
     },
     "metadata": {
      "needs_background": "light"
     },
     "output_type": "display_data"
    }
   ],
   "source": [
    "poisson = np.random.poisson(data[\"reading_time\"].mean(), size=6000)\n",
    "\n",
    "x_theor_po, y_theor_po = ecdf(poisson)\n",
    "\n",
    "plt.plot(x, y, marker=\".\", linestyle=\"none\", label=\"Data Distribution\")\n",
    "plt.plot(x_theor_po, y_theor_po, color=\"red\", label=\"Theoritical Poisson\")\n",
    "\n",
    "\n",
    "# ALWAYS LABEL PLOTS\n",
    "plt.xlabel(\"Reading time\")\n",
    "plt.ylabel(\"ECDF\")\n",
    "plt.title(\"ECDF of reading_time\")\n",
    "plt.legend()\n",
    "\n",
    "plt.show()"
   ]
  },
  {
   "cell_type": "markdown",
   "id": "45f16d7e",
   "metadata": {
    "papermill": {
     "duration": 0.066372,
     "end_time": "2022-02-28T18:09:56.238045",
     "exception": false,
     "start_time": "2022-02-28T18:09:56.171673",
     "status": "completed"
    },
    "tags": []
   },
   "source": [
    "We can conclude that reading_time is poisson distributed."
   ]
  },
  {
   "cell_type": "markdown",
   "id": "254eff0d",
   "metadata": {
    "papermill": {
     "duration": 0.066922,
     "end_time": "2022-02-28T18:09:56.372115",
     "exception": false,
     "start_time": "2022-02-28T18:09:56.305193",
     "status": "completed"
    },
    "tags": []
   },
   "source": [
    "Difference between exponential distribution and poisson distirbution:\n",
    "* Poisson is for discrete data and is based on arrivals or occurrence of events. Exponential talks about the time between occurrence of events and is a Continuous Probability Distribution Function. https://www.researchgate.net/post/QWhat_is_The_main_Difference_Between_Poisson_and_Exponential_Distributions"
   ]
  },
  {
   "cell_type": "code",
   "execution_count": 16,
   "id": "4f11a1d4",
   "metadata": {
    "execution": {
     "iopub.execute_input": "2022-02-28T18:09:56.515593Z",
     "iopub.status.busy": "2022-02-28T18:09:56.514913Z",
     "iopub.status.idle": "2022-02-28T18:09:56.715440Z",
     "shell.execute_reply": "2022-02-28T18:09:56.714831Z",
     "shell.execute_reply.started": "2022-02-28T18:08:44.514438Z"
    },
    "papermill": {
     "duration": 0.275915,
     "end_time": "2022-02-28T18:09:56.715585",
     "exception": false,
     "start_time": "2022-02-28T18:09:56.439670",
     "status": "completed"
    },
    "tags": []
   },
   "outputs": [
    {
     "data": {
      "image/png": "[encoded data removed]",
      "text/plain": [
       "<Figure size 576x432 with 1 Axes>"
      ]
     },
     "metadata": {
      "needs_background": "light"
     },
     "output_type": "display_data"
    }
   ],
   "source": [
    "sns.countplot(y=\"publication\", data=data, order=data['publication'].value_counts().index)\n",
    "plt.show()"
   ]
  },
  {
   "cell_type": "markdown",
   "id": "dc928059",
   "metadata": {
    "papermill": {
     "duration": 0.067505,
     "end_time": "2022-02-28T18:09:56.851063",
     "exception": false,
     "start_time": "2022-02-28T18:09:56.783558",
     "status": "completed"
    },
    "tags": []
   },
   "source": [
    "***The Startup*** is the publication most frequent in our data, followed by ***Towards Data Science.***"
   ]
  },
  {
   "cell_type": "markdown",
   "id": "2ffd985b",
   "metadata": {
    "papermill": {
     "duration": 0.069776,
     "end_time": "2022-02-28T18:09:56.989718",
     "exception": false,
     "start_time": "2022-02-28T18:09:56.919942",
     "status": "completed"
    },
    "tags": []
   },
   "source": [
    "How does reading time vary in each publication?"
   ]
  },
  {
   "cell_type": "code",
   "execution_count": 17,
   "id": "d3061164",
   "metadata": {
    "execution": {
     "iopub.execute_input": "2022-02-28T18:09:57.135926Z",
     "iopub.status.busy": "2022-02-28T18:09:57.135341Z",
     "iopub.status.idle": "2022-02-28T18:09:57.447740Z",
     "shell.execute_reply": "2022-02-28T18:09:57.447262Z",
     "shell.execute_reply.started": "2022-02-28T18:08:44.728803Z"
    },
    "papermill": {
     "duration": 0.389172,
     "end_time": "2022-02-28T18:09:57.447862",
     "exception": false,
     "start_time": "2022-02-28T18:09:57.058690",
     "status": "completed"
    },
    "tags": []
   },
   "outputs": [
    {
     "data": {
      "image/png": "[encoded data removed]",
      "text/plain": [
       "<Figure size 576x432 with 1 Axes>"
      ]
     },
     "metadata": {
      "needs_background": "light"
     },
     "output_type": "display_data"
    }
   ],
   "source": [
    "sns.kdeplot(x=\"reading_time\", hue=\"publication\", data=data)\n",
    "plt.xlim(0,25)\n",
    "plt.show()"
   ]
  },
  {
   "cell_type": "markdown",
   "id": "c41eed23",
   "metadata": {
    "papermill": {
     "duration": 0.065984,
     "end_time": "2022-02-28T18:09:57.580532",
     "exception": false,
     "start_time": "2022-02-28T18:09:57.514548",
     "status": "completed"
    },
    "tags": []
   },
   "source": [
    "From this kde plot we can see that the mean reading time does not differ much between publications."
   ]
  },
  {
   "cell_type": "markdown",
   "id": "adcf6971",
   "metadata": {
    "execution": {
     "iopub.execute_input": "2022-02-28T17:29:30.496604Z",
     "iopub.status.busy": "2022-02-28T17:29:30.496171Z",
     "iopub.status.idle": "2022-02-28T17:29:30.503237Z",
     "shell.execute_reply": "2022-02-28T17:29:30.502470Z",
     "shell.execute_reply.started": "2022-02-28T17:29:30.496554Z"
    },
    "papermill": {
     "duration": 0.068682,
     "end_time": "2022-02-28T18:09:57.717072",
     "exception": false,
     "start_time": "2022-02-28T18:09:57.648390",
     "status": "completed"
    },
    "tags": []
   },
   "source": [
    "Finally, to visualize relationship between reponses and claps, I have to first drop the articles that have responses as \"Read\" and convert the column type to int."
   ]
  },
  {
   "cell_type": "code",
   "execution_count": 18,
   "id": "ddf7ce78",
   "metadata": {
    "execution": {
     "iopub.execute_input": "2022-02-28T18:09:57.870781Z",
     "iopub.status.busy": "2022-02-28T18:09:57.870187Z",
     "iopub.status.idle": "2022-02-28T18:09:57.872704Z",
     "shell.execute_reply": "2022-02-28T18:09:57.873213Z",
     "shell.execute_reply.started": "2022-02-28T18:08:45.050215Z"
    },
    "papermill": {
     "duration": 0.088007,
     "end_time": "2022-02-28T18:09:57.873378",
     "exception": false,
     "start_time": "2022-02-28T18:09:57.785371",
     "status": "completed"
    },
    "tags": []
   },
   "outputs": [
    {
     "data": {
      "text/html": [
       "<div>\n",
       "<style scoped>\n",
       "    .dataframe tbody tr th:only-of-type {\n",
       "        vertical-align: middle;\n",
       "    }\n",
       "\n",
       "    .dataframe tbody tr th {\n",
       "        vertical-align: top;\n",
       "    }\n",
       "\n",
       "    .dataframe thead th {\n",
       "        text-align: right;\n",
       "    }\n",
       "</style>\n",
       "<table border=\"1\" class=\"dataframe\">\n",
       "  <thead>\n",
       "    <tr style=\"text-align: right;\">\n",
       "      <th></th>\n",
       "      <th>id</th>\n",
       "      <th>url</th>\n",
       "      <th>title</th>\n",
       "      <th>subtitle</th>\n",
       "      <th>image</th>\n",
       "      <th>claps</th>\n",
       "      <th>responses</th>\n",
       "      <th>reading_time</th>\n",
       "      <th>publication</th>\n",
       "      <th>date</th>\n",
       "    </tr>\n",
       "  </thead>\n",
       "  <tbody>\n",
       "    <tr>\n",
       "      <th>3977</th>\n",
       "      <td>3978</td>\n",
       "      <td>https://medium.com/datadriveninvestor/what-do-...</td>\n",
       "      <td>What do you think of the Open Group’s Data Sci...</td>\n",
       "      <td>NaN</td>\n",
       "      <td>3978.jpg</td>\n",
       "      <td>73</td>\n",
       "      <td>Read</td>\n",
       "      <td>3</td>\n",
       "      <td>Data Driven Investor</td>\n",
       "      <td>2019-05-24</td>\n",
       "    </tr>\n",
       "    <tr>\n",
       "      <th>6392</th>\n",
       "      <td>6393</td>\n",
       "      <td>https://uxdesign.cc/please-please-please-tell-...</td>\n",
       "      <td>UX doesn’t discriminate, it targets behaviours</td>\n",
       "      <td>NaN</td>\n",
       "      <td>NaN</td>\n",
       "      <td>74</td>\n",
       "      <td>Read</td>\n",
       "      <td>5</td>\n",
       "      <td>UX Collective</td>\n",
       "      <td>2019-12-05</td>\n",
       "    </tr>\n",
       "  </tbody>\n",
       "</table>\n",
       "</div>"
      ],
      "text/plain": [
       "        id                                                url  \\\n",
       "3977  3978  https://medium.com/datadriveninvestor/what-do-...   \n",
       "6392  6393  https://uxdesign.cc/please-please-please-tell-...   \n",
       "\n",
       "                                                  title subtitle     image  \\\n",
       "3977  What do you think of the Open Group’s Data Sci...      NaN  3978.jpg   \n",
       "6392     UX doesn’t discriminate, it targets behaviours      NaN       NaN   \n",
       "\n",
       "      claps responses  reading_time           publication        date  \n",
       "3977     73      Read             3  Data Driven Investor  2019-05-24  \n",
       "6392     74      Read             5         UX Collective  2019-12-05  "
      ]
     },
     "execution_count": 18,
     "metadata": {},
     "output_type": "execute_result"
    }
   ],
   "source": [
    "data[data[\"responses\"]==\"Read\"]"
   ]
  },
  {
   "cell_type": "code",
   "execution_count": 19,
   "id": "8a216336",
   "metadata": {
    "execution": {
     "iopub.execute_input": "2022-02-28T18:09:58.016223Z",
     "iopub.status.busy": "2022-02-28T18:09:58.015658Z",
     "iopub.status.idle": "2022-02-28T18:09:58.020551Z",
     "shell.execute_reply": "2022-02-28T18:09:58.021112Z",
     "shell.execute_reply.started": "2022-02-28T18:08:45.069048Z"
    },
    "papermill": {
     "duration": 0.076268,
     "end_time": "2022-02-28T18:09:58.021261",
     "exception": false,
     "start_time": "2022-02-28T18:09:57.944993",
     "status": "completed"
    },
    "tags": []
   },
   "outputs": [],
   "source": [
    "data.drop(index=[3977, 6392], inplace=True)"
   ]
  },
  {
   "cell_type": "code",
   "execution_count": 20,
   "id": "b8def98f",
   "metadata": {
    "execution": {
     "iopub.execute_input": "2022-02-28T18:09:58.163992Z",
     "iopub.status.busy": "2022-02-28T18:09:58.163351Z",
     "iopub.status.idle": "2022-02-28T18:09:58.171202Z",
     "shell.execute_reply": "2022-02-28T18:09:58.171704Z",
     "shell.execute_reply.started": "2022-02-28T18:08:45.080621Z"
    },
    "papermill": {
     "duration": 0.080732,
     "end_time": "2022-02-28T18:09:58.171856",
     "exception": false,
     "start_time": "2022-02-28T18:09:58.091124",
     "status": "completed"
    },
    "tags": []
   },
   "outputs": [
    {
     "data": {
      "text/plain": [
       "dtype('int64')"
      ]
     },
     "execution_count": 20,
     "metadata": {},
     "output_type": "execute_result"
    }
   ],
   "source": [
    "data[\"responses\"] = data[\"responses\"].astype(int)\n",
    "data[\"responses\"].dtype"
   ]
  },
  {
   "cell_type": "code",
   "execution_count": 21,
   "id": "1657ef33",
   "metadata": {
    "execution": {
     "iopub.execute_input": "2022-02-28T18:09:58.318695Z",
     "iopub.status.busy": "2022-02-28T18:09:58.315849Z",
     "iopub.status.idle": "2022-02-28T18:09:58.969981Z",
     "shell.execute_reply": "2022-02-28T18:09:58.970472Z",
     "shell.execute_reply.started": "2022-02-28T18:08:45.094993Z"
    },
    "papermill": {
     "duration": 0.728811,
     "end_time": "2022-02-28T18:09:58.970633",
     "exception": false,
     "start_time": "2022-02-28T18:09:58.241822",
     "status": "completed"
    },
    "tags": []
   },
   "outputs": [
    {
     "data": {
      "image/png": "[encoded data removed]",
      "text/plain": [
       "<Figure size 576x432 with 1 Axes>"
      ]
     },
     "metadata": {
      "needs_background": "light"
     },
     "output_type": "display_data"
    }
   ],
   "source": [
    "sns.regplot(x=\"claps\", y=\"responses\", data=data)\n",
    "plt.title(\"Linear Regression fit\")\n",
    "plt.show()"
   ]
  },
  {
   "cell_type": "markdown",
   "id": "a7062e82",
   "metadata": {
    "papermill": {
     "duration": 0.074514,
     "end_time": "2022-02-28T18:09:59.118303",
     "exception": false,
     "start_time": "2022-02-28T18:09:59.043789",
     "status": "completed"
    },
    "tags": []
   },
   "source": [
    "It is obvious that articles with more claps get more responses, we can make sure of that plotting a correlation heatmap."
   ]
  },
  {
   "cell_type": "code",
   "execution_count": 22,
   "id": "bec1276b",
   "metadata": {
    "execution": {
     "iopub.execute_input": "2022-02-28T18:09:59.265998Z",
     "iopub.status.busy": "2022-02-28T18:09:59.265416Z",
     "iopub.status.idle": "2022-02-28T18:09:59.521936Z",
     "shell.execute_reply": "2022-02-28T18:09:59.521298Z",
     "shell.execute_reply.started": "2022-02-28T18:08:45.772381Z"
    },
    "papermill": {
     "duration": 0.33024,
     "end_time": "2022-02-28T18:09:59.522095",
     "exception": false,
     "start_time": "2022-02-28T18:09:59.191855",
     "status": "completed"
    },
    "tags": []
   },
   "outputs": [
    {
     "data": {
      "image/png": "[encoded data removed]",
      "text/plain": [
       "<Figure size 576x432 with 2 Axes>"
      ]
     },
     "metadata": {
      "needs_background": "light"
     },
     "output_type": "display_data"
    }
   ],
   "source": [
    "correlation = data.corr()\n",
    "sns.heatmap(correlation,annot=True,\n",
    "            cmap=sns.color_palette(\"magma\"),\n",
    "            linewidth=2,edgecolor=\"k\")\n",
    "plt.title(\"CORRELATION ENTRE LES VARIABLES\")\n",
    "plt.show()"
   ]
  },
  {
   "cell_type": "markdown",
   "id": "563e4567",
   "metadata": {
    "papermill": {
     "duration": 0.073297,
     "end_time": "2022-02-28T18:09:59.667160",
     "exception": false,
     "start_time": "2022-02-28T18:09:59.593863",
     "status": "completed"
    },
    "tags": []
   },
   "source": [
    "reponses and claps are positvely correlated. (=0.84)"
   ]
  },
  {
   "cell_type": "markdown",
   "id": "85b90e59",
   "metadata": {
    "papermill": {
     "duration": 0.07176,
     "end_time": "2022-02-28T18:09:59.810061",
     "exception": false,
     "start_time": "2022-02-28T18:09:59.738301",
     "status": "completed"
    },
    "tags": []
   },
   "source": [
    "## Pre Processing"
   ]
  },
  {
   "cell_type": "markdown",
   "id": "8b3afee1",
   "metadata": {
    "papermill": {
     "duration": 0.074344,
     "end_time": "2022-02-28T18:09:59.955801",
     "exception": false,
     "start_time": "2022-02-28T18:09:59.881457",
     "status": "completed"
    },
    "tags": []
   },
   "source": [
    "I will start by converting date column to its correct type:"
   ]
  },
  {
   "cell_type": "code",
   "execution_count": 23,
   "id": "ea5c7342",
   "metadata": {
    "execution": {
     "iopub.execute_input": "2022-02-28T18:10:00.107661Z",
     "iopub.status.busy": "2022-02-28T18:10:00.103942Z",
     "iopub.status.idle": "2022-02-28T18:10:00.113389Z",
     "shell.execute_reply": "2022-02-28T18:10:00.113982Z",
     "shell.execute_reply.started": "2022-02-28T18:08:46.046930Z"
    },
    "papermill": {
     "duration": 0.088143,
     "end_time": "2022-02-28T18:10:00.114162",
     "exception": false,
     "start_time": "2022-02-28T18:10:00.026019",
     "status": "completed"
    },
    "tags": []
   },
   "outputs": [
    {
     "data": {
      "text/plain": [
       "dtype('<M8[ns]')"
      ]
     },
     "execution_count": 23,
     "metadata": {},
     "output_type": "execute_result"
    }
   ],
   "source": [
    "data = data.astype({'date': 'datetime64[ns]'})\n",
    "data[\"date\"].dtype"
   ]
  },
  {
   "cell_type": "markdown",
   "id": "baa73066",
   "metadata": {
    "papermill": {
     "duration": 0.072038,
     "end_time": "2022-02-28T18:10:00.259607",
     "exception": false,
     "start_time": "2022-02-28T18:10:00.187569",
     "status": "completed"
    },
    "tags": []
   },
   "source": [
    "Next, I have noticed some titles that have html tags attached to them, I will applying some regex to delete those elements.\n",
    "Example of a title with html element:"
   ]
  },
  {
   "cell_type": "code",
   "execution_count": 24,
   "id": "d67a2242",
   "metadata": {
    "execution": {
     "iopub.execute_input": "2022-02-28T18:10:00.407089Z",
     "iopub.status.busy": "2022-02-28T18:10:00.406523Z",
     "iopub.status.idle": "2022-02-28T18:10:00.408741Z",
     "shell.execute_reply": "2022-02-28T18:10:00.409260Z",
     "shell.execute_reply.started": "2022-02-28T18:08:46.063924Z"
    },
    "papermill": {
     "duration": 0.078469,
     "end_time": "2022-02-28T18:10:00.409403",
     "exception": false,
     "start_time": "2022-02-28T18:10:00.330934",
     "status": "completed"
    },
    "tags": []
   },
   "outputs": [
    {
     "data": {
      "text/plain": [
       "'<strong class=\"markup--strong markup--h3-strong\">If You Learn to Write, You Can Change Your\\xa0Life.</strong>'"
      ]
     },
     "execution_count": 24,
     "metadata": {},
     "output_type": "execute_result"
    }
   ],
   "source": [
    "data.iloc[1003].title"
   ]
  },
  {
   "cell_type": "code",
   "execution_count": 25,
   "id": "80f14ed3",
   "metadata": {
    "execution": {
     "iopub.execute_input": "2022-02-28T18:10:00.554285Z",
     "iopub.status.busy": "2022-02-28T18:10:00.553633Z",
     "iopub.status.idle": "2022-02-28T18:10:08.279621Z",
     "shell.execute_reply": "2022-02-28T18:10:08.279157Z",
     "shell.execute_reply.started": "2022-02-28T18:08:46.074981Z"
    },
    "papermill": {
     "duration": 7.799621,
     "end_time": "2022-02-28T18:10:08.279765",
     "exception": false,
     "start_time": "2022-02-28T18:10:00.480144",
     "status": "completed"
    },
    "tags": []
   },
   "outputs": [],
   "source": [
    "def fix_titles(row):\n",
    "    if re.search(\"<\\w.*?>\", row) != None:\n",
    "        data[\"title\"] = data[\"title\"].replace(\"<\\w.*?>\", \"\", regex=True)\n",
    "        data[\"title\"] = data[\"title\"].replace(\"</\\w.*?>\", \"\", regex=True)\n",
    "    return row\n",
    "\n",
    "data['title'] = data['title'].apply(fix_titles)"
   ]
  },
  {
   "cell_type": "markdown",
   "id": "2ed525f7",
   "metadata": {
    "papermill": {
     "duration": 0.071359,
     "end_time": "2022-02-28T18:10:08.422054",
     "exception": false,
     "start_time": "2022-02-28T18:10:08.350695",
     "status": "completed"
    },
    "tags": []
   },
   "source": [
    "Now I can drop columns that I won't be using: (not important step)"
   ]
  },
  {
   "cell_type": "code",
   "execution_count": 26,
   "id": "92620411",
   "metadata": {
    "execution": {
     "iopub.execute_input": "2022-02-28T18:10:08.571445Z",
     "iopub.status.busy": "2022-02-28T18:10:08.570813Z",
     "iopub.status.idle": "2022-02-28T18:10:08.574817Z",
     "shell.execute_reply": "2022-02-28T18:10:08.575405Z",
     "shell.execute_reply.started": "2022-02-28T18:08:54.288552Z"
    },
    "papermill": {
     "duration": 0.081547,
     "end_time": "2022-02-28T18:10:08.575551",
     "exception": false,
     "start_time": "2022-02-28T18:10:08.494004",
     "status": "completed"
    },
    "tags": []
   },
   "outputs": [],
   "source": [
    "data.drop(columns=[\"id\", \"image\"], inplace=True)"
   ]
  },
  {
   "cell_type": "markdown",
   "id": "7f67ac32",
   "metadata": {
    "papermill": {
     "duration": 0.069119,
     "end_time": "2022-02-28T18:10:08.715879",
     "exception": false,
     "start_time": "2022-02-28T18:10:08.646760",
     "status": "completed"
    },
    "tags": []
   },
   "source": [
    "As I mentioned in the beginning, there are articles that do not have subtitles, so I will fill these missing subtitles with the title of the article."
   ]
  },
  {
   "cell_type": "code",
   "execution_count": 27,
   "id": "dfb5f9a7",
   "metadata": {
    "execution": {
     "iopub.execute_input": "2022-02-28T18:10:08.864588Z",
     "iopub.status.busy": "2022-02-28T18:10:08.863954Z",
     "iopub.status.idle": "2022-02-28T18:10:08.869761Z",
     "shell.execute_reply": "2022-02-28T18:10:08.869272Z",
     "shell.execute_reply.started": "2022-02-28T18:08:54.299238Z"
    },
    "papermill": {
     "duration": 0.080384,
     "end_time": "2022-02-28T18:10:08.869886",
     "exception": false,
     "start_time": "2022-02-28T18:10:08.789502",
     "status": "completed"
    },
    "tags": []
   },
   "outputs": [],
   "source": [
    "data[\"subtitle\"].fillna(data[\"title\"], inplace=True)"
   ]
  },
  {
   "cell_type": "markdown",
   "id": "86dba6b6",
   "metadata": {
    "papermill": {
     "duration": 0.072263,
     "end_time": "2022-02-28T18:10:09.015533",
     "exception": false,
     "start_time": "2022-02-28T18:10:08.943270",
     "status": "completed"
    },
    "tags": []
   },
   "source": [
    "A recommender system would be better if the data contained the whole body, or a summary of it, but since we do not have here, we can combined title and subtitle to form a column that we will apply NMF on."
   ]
  },
  {
   "cell_type": "code",
   "execution_count": 28,
   "id": "7b5dd9d5",
   "metadata": {
    "execution": {
     "iopub.execute_input": "2022-02-28T18:10:09.177879Z",
     "iopub.status.busy": "2022-02-28T18:10:09.177298Z",
     "iopub.status.idle": "2022-02-28T18:10:09.180054Z",
     "shell.execute_reply": "2022-02-28T18:10:09.180593Z",
     "shell.execute_reply.started": "2022-02-28T18:08:54.310416Z"
    },
    "papermill": {
     "duration": 0.092048,
     "end_time": "2022-02-28T18:10:09.180749",
     "exception": false,
     "start_time": "2022-02-28T18:10:09.088701",
     "status": "completed"
    },
    "tags": []
   },
   "outputs": [
    {
     "data": {
      "text/html": [
       "<div>\n",
       "<style scoped>\n",
       "    .dataframe tbody tr th:only-of-type {\n",
       "        vertical-align: middle;\n",
       "    }\n",
       "\n",
       "    .dataframe tbody tr th {\n",
       "        vertical-align: top;\n",
       "    }\n",
       "\n",
       "    .dataframe thead th {\n",
       "        text-align: right;\n",
       "    }\n",
       "</style>\n",
       "<table border=\"1\" class=\"dataframe\">\n",
       "  <thead>\n",
       "    <tr style=\"text-align: right;\">\n",
       "      <th></th>\n",
       "      <th>url</th>\n",
       "      <th>title</th>\n",
       "      <th>subtitle</th>\n",
       "      <th>claps</th>\n",
       "      <th>responses</th>\n",
       "      <th>reading_time</th>\n",
       "      <th>publication</th>\n",
       "      <th>date</th>\n",
       "      <th>article</th>\n",
       "    </tr>\n",
       "  </thead>\n",
       "  <tbody>\n",
       "    <tr>\n",
       "      <th>0</th>\n",
       "      <td>https://towardsdatascience.com/a-beginners-gui...</td>\n",
       "      <td>A Beginner’s Guide to Word Embedding with Gens...</td>\n",
       "      <td>A Beginner’s Guide to Word Embedding with Gens...</td>\n",
       "      <td>850</td>\n",
       "      <td>8</td>\n",
       "      <td>8</td>\n",
       "      <td>Towards Data Science</td>\n",
       "      <td>2019-05-30</td>\n",
       "      <td>A Beginner’s Guide to Word Embedding with Gens...</td>\n",
       "    </tr>\n",
       "    <tr>\n",
       "      <th>1</th>\n",
       "      <td>https://towardsdatascience.com/hands-on-graph-...</td>\n",
       "      <td>Hands-on Graph Neural Networks with PyTorch &amp; ...</td>\n",
       "      <td>Hands-on Graph Neural Networks with PyTorch &amp; ...</td>\n",
       "      <td>1100</td>\n",
       "      <td>11</td>\n",
       "      <td>9</td>\n",
       "      <td>Towards Data Science</td>\n",
       "      <td>2019-05-30</td>\n",
       "      <td>Hands-on Graph Neural Networks with PyTorch &amp; ...</td>\n",
       "    </tr>\n",
       "    <tr>\n",
       "      <th>2</th>\n",
       "      <td>https://towardsdatascience.com/how-to-use-ggpl...</td>\n",
       "      <td>How to Use ggplot2 in Python</td>\n",
       "      <td>A Grammar of Graphics for Python</td>\n",
       "      <td>767</td>\n",
       "      <td>1</td>\n",
       "      <td>5</td>\n",
       "      <td>Towards Data Science</td>\n",
       "      <td>2019-05-30</td>\n",
       "      <td>How to Use ggplot2 in PythonA Grammar of Graph...</td>\n",
       "    </tr>\n",
       "    <tr>\n",
       "      <th>3</th>\n",
       "      <td>https://towardsdatascience.com/databricks-how-...</td>\n",
       "      <td>Databricks: How to Save Files in CSV on Your L...</td>\n",
       "      <td>When I work on Python projects dealing…</td>\n",
       "      <td>354</td>\n",
       "      <td>0</td>\n",
       "      <td>4</td>\n",
       "      <td>Towards Data Science</td>\n",
       "      <td>2019-05-30</td>\n",
       "      <td>Databricks: How to Save Files in CSV on Your L...</td>\n",
       "    </tr>\n",
       "    <tr>\n",
       "      <th>4</th>\n",
       "      <td>https://towardsdatascience.com/a-step-by-step-...</td>\n",
       "      <td>A Step-by-Step Implementation of Gradient Desc...</td>\n",
       "      <td>One example of building neural…</td>\n",
       "      <td>211</td>\n",
       "      <td>3</td>\n",
       "      <td>4</td>\n",
       "      <td>Towards Data Science</td>\n",
       "      <td>2019-05-30</td>\n",
       "      <td>A Step-by-Step Implementation of Gradient Desc...</td>\n",
       "    </tr>\n",
       "  </tbody>\n",
       "</table>\n",
       "</div>"
      ],
      "text/plain": [
       "                                                 url  \\\n",
       "0  https://towardsdatascience.com/a-beginners-gui...   \n",
       "1  https://towardsdatascience.com/hands-on-graph-...   \n",
       "2  https://towardsdatascience.com/how-to-use-ggpl...   \n",
       "3  https://towardsdatascience.com/databricks-how-...   \n",
       "4  https://towardsdatascience.com/a-step-by-step-...   \n",
       "\n",
       "                                               title  \\\n",
       "0  A Beginner’s Guide to Word Embedding with Gens...   \n",
       "1  Hands-on Graph Neural Networks with PyTorch & ...   \n",
       "2                       How to Use ggplot2 in Python   \n",
       "3  Databricks: How to Save Files in CSV on Your L...   \n",
       "4  A Step-by-Step Implementation of Gradient Desc...   \n",
       "\n",
       "                                            subtitle  claps  responses  \\\n",
       "0  A Beginner’s Guide to Word Embedding with Gens...    850          8   \n",
       "1  Hands-on Graph Neural Networks with PyTorch & ...   1100         11   \n",
       "2                   A Grammar of Graphics for Python    767          1   \n",
       "3            When I work on Python projects dealing…    354          0   \n",
       "4                    One example of building neural…    211          3   \n",
       "\n",
       "   reading_time           publication       date  \\\n",
       "0             8  Towards Data Science 2019-05-30   \n",
       "1             9  Towards Data Science 2019-05-30   \n",
       "2             5  Towards Data Science 2019-05-30   \n",
       "3             4  Towards Data Science 2019-05-30   \n",
       "4             4  Towards Data Science 2019-05-30   \n",
       "\n",
       "                                             article  \n",
       "0  A Beginner’s Guide to Word Embedding with Gens...  \n",
       "1  Hands-on Graph Neural Networks with PyTorch & ...  \n",
       "2  How to Use ggplot2 in PythonA Grammar of Graph...  \n",
       "3  Databricks: How to Save Files in CSV on Your L...  \n",
       "4  A Step-by-Step Implementation of Gradient Desc...  "
      ]
     },
     "execution_count": 28,
     "metadata": {},
     "output_type": "execute_result"
    }
   ],
   "source": [
    "data[\"article\"] = data[\"title\"] + data[\"subtitle\"]\n",
    "data.head()"
   ]
  },
  {
   "cell_type": "markdown",
   "id": "e64ff0a9",
   "metadata": {
    "papermill": {
     "duration": 0.074873,
     "end_time": "2022-02-28T18:10:09.330438",
     "exception": false,
     "start_time": "2022-02-28T18:10:09.255565",
     "status": "completed"
    },
    "tags": []
   },
   "source": [
    "Lets sort data by number of claps."
   ]
  },
  {
   "cell_type": "code",
   "execution_count": 29,
   "id": "a8a3d5b8",
   "metadata": {
    "execution": {
     "iopub.execute_input": "2022-02-28T18:10:09.476619Z",
     "iopub.status.busy": "2022-02-28T18:10:09.476095Z",
     "iopub.status.idle": "2022-02-28T18:10:09.482681Z",
     "shell.execute_reply": "2022-02-28T18:10:09.482265Z",
     "shell.execute_reply.started": "2022-02-28T18:08:54.334881Z"
    },
    "papermill": {
     "duration": 0.080339,
     "end_time": "2022-02-28T18:10:09.482801",
     "exception": false,
     "start_time": "2022-02-28T18:10:09.402462",
     "status": "completed"
    },
    "tags": []
   },
   "outputs": [],
   "source": [
    "data = data.sort_values(by=\"claps\", ascending=False)"
   ]
  },
  {
   "cell_type": "markdown",
   "id": "35f3f78d",
   "metadata": {
    "papermill": {
     "duration": 0.071352,
     "end_time": "2022-02-28T18:10:09.624133",
     "exception": false,
     "start_time": "2022-02-28T18:10:09.552781",
     "status": "completed"
    },
    "tags": []
   },
   "source": [
    "Now, we have to vectorize the articles using **Tf-IDF** vecotizer."
   ]
  },
  {
   "cell_type": "code",
   "execution_count": 30,
   "id": "0926f8ac",
   "metadata": {
    "execution": {
     "iopub.execute_input": "2022-02-28T18:10:09.779366Z",
     "iopub.status.busy": "2022-02-28T18:10:09.778700Z",
     "iopub.status.idle": "2022-02-28T18:10:09.952006Z",
     "shell.execute_reply": "2022-02-28T18:10:09.951564Z",
     "shell.execute_reply.started": "2022-02-28T18:08:54.343749Z"
    },
    "papermill": {
     "duration": 0.256502,
     "end_time": "2022-02-28T18:10:09.952137",
     "exception": false,
     "start_time": "2022-02-28T18:10:09.695635",
     "status": "completed"
    },
    "tags": []
   },
   "outputs": [
    {
     "data": {
      "text/plain": [
       "<6506x13730 sparse matrix of type '<class 'numpy.float64'>'\n",
       "\twith 73717 stored elements in Compressed Sparse Row format>"
      ]
     },
     "execution_count": 30,
     "metadata": {},
     "output_type": "execute_result"
    }
   ],
   "source": [
    "vectorizer = TfidfVectorizer()\n",
    "articles = vectorizer.fit_transform(data[\"article\"])\n",
    "articles"
   ]
  },
  {
   "cell_type": "markdown",
   "id": "8309f596",
   "metadata": {
    "papermill": {
     "duration": 0.069791,
     "end_time": "2022-02-28T18:10:10.092609",
     "exception": false,
     "start_time": "2022-02-28T18:10:10.022818",
     "status": "completed"
    },
    "tags": []
   },
   "source": [
    "## Recommender System"
   ]
  },
  {
   "cell_type": "markdown",
   "id": "e3f854a2",
   "metadata": {
    "papermill": {
     "duration": 0.072897,
     "end_time": "2022-02-28T18:10:10.239175",
     "exception": false,
     "start_time": "2022-02-28T18:10:10.166278",
     "status": "completed"
    },
    "tags": []
   },
   "source": [
    "Now we can apply NMF on our data and create the recommender. I choose 10 as number of components."
   ]
  },
  {
   "cell_type": "code",
   "execution_count": 31,
   "id": "cc4e4820",
   "metadata": {
    "execution": {
     "iopub.execute_input": "2022-02-28T18:10:10.386180Z",
     "iopub.status.busy": "2022-02-28T18:10:10.385575Z",
     "iopub.status.idle": "2022-02-28T18:10:10.989111Z",
     "shell.execute_reply": "2022-02-28T18:10:10.990051Z",
     "shell.execute_reply.started": "2022-02-28T18:08:54.558799Z"
    },
    "papermill": {
     "duration": 0.679772,
     "end_time": "2022-02-28T18:10:10.990311",
     "exception": false,
     "start_time": "2022-02-28T18:10:10.310539",
     "status": "completed"
    },
    "tags": []
   },
   "outputs": [
    {
     "data": {
      "text/plain": [
       "array([[0.00000000e+00, 0.00000000e+00, 0.00000000e+00, ...,\n",
       "        0.00000000e+00, 0.00000000e+00, 0.00000000e+00],\n",
       "       [0.00000000e+00, 1.22218394e-02, 0.00000000e+00, ...,\n",
       "        0.00000000e+00, 7.19719005e-03, 0.00000000e+00],\n",
       "       [2.42439213e-03, 1.08082605e-03, 0.00000000e+00, ...,\n",
       "        6.58950377e-04, 2.94480676e-03, 0.00000000e+00],\n",
       "       ...,\n",
       "       [0.00000000e+00, 0.00000000e+00, 8.48286416e-04, ...,\n",
       "        0.00000000e+00, 0.00000000e+00, 1.92588173e-03],\n",
       "       [0.00000000e+00, 0.00000000e+00, 0.00000000e+00, ...,\n",
       "        4.84522087e-03, 0.00000000e+00, 0.00000000e+00],\n",
       "       [0.00000000e+00, 6.76694948e-03, 8.72262060e-05, ...,\n",
       "        0.00000000e+00, 1.19255427e-03, 2.85078158e-03]])"
      ]
     },
     "execution_count": 31,
     "metadata": {},
     "output_type": "execute_result"
    }
   ],
   "source": [
    "model = NMF(n_components=10, random_state=0)\n",
    "nmf_features = model.fit_transform(articles)\n",
    "model.components_"
   ]
  },
  {
   "cell_type": "markdown",
   "id": "8f05a14d",
   "metadata": {
    "papermill": {
     "duration": 0.074409,
     "end_time": "2022-02-28T18:10:11.191626",
     "exception": false,
     "start_time": "2022-02-28T18:10:11.117217",
     "status": "completed"
    },
    "tags": []
   },
   "source": [
    "Now I will normalize nmf features to a unit norm."
   ]
  },
  {
   "cell_type": "code",
   "execution_count": 32,
   "id": "31e32013",
   "metadata": {
    "execution": {
     "iopub.execute_input": "2022-02-28T18:10:11.347220Z",
     "iopub.status.busy": "2022-02-28T18:10:11.346572Z",
     "iopub.status.idle": "2022-02-28T18:10:11.348940Z",
     "shell.execute_reply": "2022-02-28T18:10:11.348478Z",
     "shell.execute_reply.started": "2022-02-28T18:08:55.426211Z"
    },
    "papermill": {
     "duration": 0.081621,
     "end_time": "2022-02-28T18:10:11.349099",
     "exception": false,
     "start_time": "2022-02-28T18:10:11.267478",
     "status": "completed"
    },
    "tags": []
   },
   "outputs": [],
   "source": [
    "normalized = normalize(nmf_features)"
   ]
  },
  {
   "cell_type": "markdown",
   "id": "bf4ec206",
   "metadata": {
    "execution": {
     "iopub.execute_input": "2022-02-28T17:59:08.248230Z",
     "iopub.status.busy": "2022-02-28T17:59:08.247946Z",
     "iopub.status.idle": "2022-02-28T17:59:08.252340Z",
     "shell.execute_reply": "2022-02-28T17:59:08.251397Z",
     "shell.execute_reply.started": "2022-02-28T17:59:08.248200Z"
    },
    "papermill": {
     "duration": 0.071697,
     "end_time": "2022-02-28T18:10:11.493942",
     "exception": false,
     "start_time": "2022-02-28T18:10:11.422245",
     "status": "completed"
    },
    "tags": []
   },
   "source": [
    "### Results"
   ]
  },
  {
   "cell_type": "markdown",
   "id": "25f1f7bc",
   "metadata": {
    "papermill": {
     "duration": 0.071523,
     "end_time": "2022-02-28T18:10:11.636585",
     "exception": false,
     "start_time": "2022-02-28T18:10:11.565062",
     "status": "completed"
    },
    "tags": []
   },
   "source": [
    "To make it easy to work with the features, lets create a dataframe containing the features, indexed by title of article."
   ]
  },
  {
   "cell_type": "code",
   "execution_count": 33,
   "id": "dba7bec8",
   "metadata": {
    "execution": {
     "iopub.execute_input": "2022-02-28T18:10:11.784223Z",
     "iopub.status.busy": "2022-02-28T18:10:11.783561Z",
     "iopub.status.idle": "2022-02-28T18:10:11.787729Z",
     "shell.execute_reply": "2022-02-28T18:10:11.788230Z",
     "shell.execute_reply.started": "2022-02-28T18:08:55.435750Z"
    },
    "papermill": {
     "duration": 0.078542,
     "end_time": "2022-02-28T18:10:11.788387",
     "exception": false,
     "start_time": "2022-02-28T18:10:11.709845",
     "status": "completed"
    },
    "tags": []
   },
   "outputs": [],
   "source": [
    "df = pd.DataFrame(data=normalized, index=data[\"title\"])"
   ]
  },
  {
   "cell_type": "markdown",
   "id": "463e7bb0",
   "metadata": {
    "papermill": {
     "duration": 0.075067,
     "end_time": "2022-02-28T18:10:11.939126",
     "exception": false,
     "start_time": "2022-02-28T18:10:11.864059",
     "status": "completed"
    },
    "tags": []
   },
   "source": [
    "The resulted dataframe:"
   ]
  },
  {
   "cell_type": "code",
   "execution_count": 34,
   "id": "872e0585",
   "metadata": {
    "execution": {
     "iopub.execute_input": "2022-02-28T18:10:12.094023Z",
     "iopub.status.busy": "2022-02-28T18:10:12.093067Z",
     "iopub.status.idle": "2022-02-28T18:10:12.117002Z",
     "shell.execute_reply": "2022-02-28T18:10:12.117485Z",
     "shell.execute_reply.started": "2022-02-28T18:08:55.445807Z"
    },
    "papermill": {
     "duration": 0.104279,
     "end_time": "2022-02-28T18:10:12.117656",
     "exception": false,
     "start_time": "2022-02-28T18:10:12.013377",
     "status": "completed"
    },
    "tags": []
   },
   "outputs": [
    {
     "data": {
      "text/html": [
       "<div>\n",
       "<style scoped>\n",
       "    .dataframe tbody tr th:only-of-type {\n",
       "        vertical-align: middle;\n",
       "    }\n",
       "\n",
       "    .dataframe tbody tr th {\n",
       "        vertical-align: top;\n",
       "    }\n",
       "\n",
       "    .dataframe thead th {\n",
       "        text-align: right;\n",
       "    }\n",
       "</style>\n",
       "<table border=\"1\" class=\"dataframe\">\n",
       "  <thead>\n",
       "    <tr style=\"text-align: right;\">\n",
       "      <th></th>\n",
       "      <th>0</th>\n",
       "      <th>1</th>\n",
       "      <th>2</th>\n",
       "      <th>3</th>\n",
       "      <th>4</th>\n",
       "      <th>5</th>\n",
       "      <th>6</th>\n",
       "      <th>7</th>\n",
       "      <th>8</th>\n",
       "      <th>9</th>\n",
       "    </tr>\n",
       "    <tr>\n",
       "      <th>title</th>\n",
       "      <th></th>\n",
       "      <th></th>\n",
       "      <th></th>\n",
       "      <th></th>\n",
       "      <th></th>\n",
       "      <th></th>\n",
       "      <th></th>\n",
       "      <th></th>\n",
       "      <th></th>\n",
       "      <th></th>\n",
       "    </tr>\n",
       "  </thead>\n",
       "  <tbody>\n",
       "    <tr>\n",
       "      <th>How I Made $100 on Medium in My Second Month</th>\n",
       "      <td>0.000000</td>\n",
       "      <td>0.150669</td>\n",
       "      <td>0.047917</td>\n",
       "      <td>0.000000</td>\n",
       "      <td>0.000000</td>\n",
       "      <td>0.011990</td>\n",
       "      <td>0.000000</td>\n",
       "      <td>0.329366</td>\n",
       "      <td>0.040758</td>\n",
       "      <td>0.929901</td>\n",
       "    </tr>\n",
       "    <tr>\n",
       "      <th>Best Practices for NLP Classification in TensorFlow 2.0</th>\n",
       "      <td>0.000496</td>\n",
       "      <td>0.000000</td>\n",
       "      <td>0.000000</td>\n",
       "      <td>0.000000</td>\n",
       "      <td>0.550908</td>\n",
       "      <td>0.000000</td>\n",
       "      <td>0.649373</td>\n",
       "      <td>0.000000</td>\n",
       "      <td>0.000000</td>\n",
       "      <td>0.524228</td>\n",
       "    </tr>\n",
       "    <tr>\n",
       "      <th>Why I'm switching back to a career in Tech?…… Data Science</th>\n",
       "      <td>0.002224</td>\n",
       "      <td>0.295432</td>\n",
       "      <td>0.000000</td>\n",
       "      <td>0.000000</td>\n",
       "      <td>0.879983</td>\n",
       "      <td>0.000000</td>\n",
       "      <td>0.000000</td>\n",
       "      <td>0.033397</td>\n",
       "      <td>0.000000</td>\n",
       "      <td>0.370446</td>\n",
       "    </tr>\n",
       "    <tr>\n",
       "      <th>How We Consume Stories</th>\n",
       "      <td>0.000000</td>\n",
       "      <td>0.667693</td>\n",
       "      <td>0.045402</td>\n",
       "      <td>0.161885</td>\n",
       "      <td>0.000000</td>\n",
       "      <td>0.000000</td>\n",
       "      <td>0.000000</td>\n",
       "      <td>0.577125</td>\n",
       "      <td>0.000000</td>\n",
       "      <td>0.439140</td>\n",
       "    </tr>\n",
       "    <tr>\n",
       "      <th>Where The Wild Words Are</th>\n",
       "      <td>0.000000</td>\n",
       "      <td>0.422972</td>\n",
       "      <td>0.383709</td>\n",
       "      <td>0.000000</td>\n",
       "      <td>0.000000</td>\n",
       "      <td>0.000000</td>\n",
       "      <td>0.000000</td>\n",
       "      <td>0.000000</td>\n",
       "      <td>0.689624</td>\n",
       "      <td>0.445287</td>\n",
       "    </tr>\n",
       "    <tr>\n",
       "      <th>Building a model? Here’s the first question you should ask</th>\n",
       "      <td>0.000000</td>\n",
       "      <td>0.294832</td>\n",
       "      <td>0.251997</td>\n",
       "      <td>0.000000</td>\n",
       "      <td>0.000000</td>\n",
       "      <td>0.541981</td>\n",
       "      <td>0.248165</td>\n",
       "      <td>0.425836</td>\n",
       "      <td>0.559381</td>\n",
       "      <td>0.000000</td>\n",
       "    </tr>\n",
       "    <tr>\n",
       "      <th>What Are Ethical Hackers?</th>\n",
       "      <td>0.002894</td>\n",
       "      <td>0.000000</td>\n",
       "      <td>0.027589</td>\n",
       "      <td>0.007482</td>\n",
       "      <td>0.000000</td>\n",
       "      <td>0.504484</td>\n",
       "      <td>0.000000</td>\n",
       "      <td>0.860523</td>\n",
       "      <td>0.000000</td>\n",
       "      <td>0.064578</td>\n",
       "    </tr>\n",
       "    <tr>\n",
       "      <th>Why I changed my mind in purchasing Vietnam property</th>\n",
       "      <td>0.000902</td>\n",
       "      <td>0.000000</td>\n",
       "      <td>0.001970</td>\n",
       "      <td>0.000000</td>\n",
       "      <td>0.000000</td>\n",
       "      <td>0.006832</td>\n",
       "      <td>0.000000</td>\n",
       "      <td>0.213049</td>\n",
       "      <td>0.023549</td>\n",
       "      <td>0.976731</td>\n",
       "    </tr>\n",
       "    <tr>\n",
       "      <th>Differentiable Inter Agent Learning to Solve the Prisoners-Switch Riddle</th>\n",
       "      <td>0.000000</td>\n",
       "      <td>0.323564</td>\n",
       "      <td>0.330406</td>\n",
       "      <td>0.000000</td>\n",
       "      <td>0.000000</td>\n",
       "      <td>0.000000</td>\n",
       "      <td>0.886644</td>\n",
       "      <td>0.000000</td>\n",
       "      <td>0.000000</td>\n",
       "      <td>0.000000</td>\n",
       "    </tr>\n",
       "    <tr>\n",
       "      <th>Should You Accept Your Limits or Break Through Them?</th>\n",
       "      <td>0.000000</td>\n",
       "      <td>0.025223</td>\n",
       "      <td>0.000000</td>\n",
       "      <td>0.000000</td>\n",
       "      <td>0.000000</td>\n",
       "      <td>0.911640</td>\n",
       "      <td>0.000000</td>\n",
       "      <td>0.141867</td>\n",
       "      <td>0.384903</td>\n",
       "      <td>0.000000</td>\n",
       "    </tr>\n",
       "  </tbody>\n",
       "</table>\n",
       "</div>"
      ],
      "text/plain": [
       "                                                           0         1  \\\n",
       "title                                                                    \n",
       "How I Made $100 on Medium in My Second Month        0.000000  0.150669   \n",
       "Best Practices for NLP Classification in Tensor...  0.000496  0.000000   \n",
       "Why I'm switching back to a career in Tech?…… D...  0.002224  0.295432   \n",
       "How We Consume Stories                              0.000000  0.667693   \n",
       "Where The Wild Words Are                            0.000000  0.422972   \n",
       "Building a model? Here’s the first question you...  0.000000  0.294832   \n",
       "What Are Ethical Hackers?                           0.002894  0.000000   \n",
       "Why I changed my mind in purchasing Vietnam pro...  0.000902  0.000000   \n",
       "Differentiable Inter Agent Learning to Solve th...  0.000000  0.323564   \n",
       "Should You Accept Your Limits or Break Through ...  0.000000  0.025223   \n",
       "\n",
       "                                                           2         3  \\\n",
       "title                                                                    \n",
       "How I Made $100 on Medium in My Second Month        0.047917  0.000000   \n",
       "Best Practices for NLP Classification in Tensor...  0.000000  0.000000   \n",
       "Why I'm switching back to a career in Tech?…… D...  0.000000  0.000000   \n",
       "How We Consume Stories                              0.045402  0.161885   \n",
       "Where The Wild Words Are                            0.383709  0.000000   \n",
       "Building a model? Here’s the first question you...  0.251997  0.000000   \n",
       "What Are Ethical Hackers?                           0.027589  0.007482   \n",
       "Why I changed my mind in purchasing Vietnam pro...  0.001970  0.000000   \n",
       "Differentiable Inter Agent Learning to Solve th...  0.330406  0.000000   \n",
       "Should You Accept Your Limits or Break Through ...  0.000000  0.000000   \n",
       "\n",
       "                                                           4         5  \\\n",
       "title                                                                    \n",
       "How I Made $100 on Medium in My Second Month        0.000000  0.011990   \n",
       "Best Practices for NLP Classification in Tensor...  0.550908  0.000000   \n",
       "Why I'm switching back to a career in Tech?…… D...  0.879983  0.000000   \n",
       "How We Consume Stories                              0.000000  0.000000   \n",
       "Where The Wild Words Are                            0.000000  0.000000   \n",
       "Building a model? Here’s the first question you...  0.000000  0.541981   \n",
       "What Are Ethical Hackers?                           0.000000  0.504484   \n",
       "Why I changed my mind in purchasing Vietnam pro...  0.000000  0.006832   \n",
       "Differentiable Inter Agent Learning to Solve th...  0.000000  0.000000   \n",
       "Should You Accept Your Limits or Break Through ...  0.000000  0.911640   \n",
       "\n",
       "                                                           6         7  \\\n",
       "title                                                                    \n",
       "How I Made $100 on Medium in My Second Month        0.000000  0.329366   \n",
       "Best Practices for NLP Classification in Tensor...  0.649373  0.000000   \n",
       "Why I'm switching back to a career in Tech?…… D...  0.000000  0.033397   \n",
       "How We Consume Stories                              0.000000  0.577125   \n",
       "Where The Wild Words Are                            0.000000  0.000000   \n",
       "Building a model? Here’s the first question you...  0.248165  0.425836   \n",
       "What Are Ethical Hackers?                           0.000000  0.860523   \n",
       "Why I changed my mind in purchasing Vietnam pro...  0.000000  0.213049   \n",
       "Differentiable Inter Agent Learning to Solve th...  0.886644  0.000000   \n",
       "Should You Accept Your Limits or Break Through ...  0.000000  0.141867   \n",
       "\n",
       "                                                           8         9  \n",
       "title                                                                   \n",
       "How I Made $100 on Medium in My Second Month        0.040758  0.929901  \n",
       "Best Practices for NLP Classification in Tensor...  0.000000  0.524228  \n",
       "Why I'm switching back to a career in Tech?…… D...  0.000000  0.370446  \n",
       "How We Consume Stories                              0.000000  0.439140  \n",
       "Where The Wild Words Are                            0.689624  0.445287  \n",
       "Building a model? Here’s the first question you...  0.559381  0.000000  \n",
       "What Are Ethical Hackers?                           0.000000  0.064578  \n",
       "Why I changed my mind in purchasing Vietnam pro...  0.023549  0.976731  \n",
       "Differentiable Inter Agent Learning to Solve th...  0.000000  0.000000  \n",
       "Should You Accept Your Limits or Break Through ...  0.384903  0.000000  "
      ]
     },
     "execution_count": 34,
     "metadata": {},
     "output_type": "execute_result"
    }
   ],
   "source": [
    "df.sample(10)"
   ]
  },
  {
   "cell_type": "markdown",
   "id": "11bde494",
   "metadata": {
    "papermill": {
     "duration": 0.07289,
     "end_time": "2022-02-28T18:10:12.277553",
     "exception": false,
     "start_time": "2022-02-28T18:10:12.204663",
     "status": "completed"
    },
    "tags": []
   },
   "source": [
    "Now lets say I am currently reading \"Will AI steal UX/UI designers’ job?\" article, which articles will the recommender suggest?"
   ]
  },
  {
   "cell_type": "code",
   "execution_count": 35,
   "id": "b5709798",
   "metadata": {
    "execution": {
     "iopub.execute_input": "2022-02-28T18:10:12.427533Z",
     "iopub.status.busy": "2022-02-28T18:10:12.426949Z",
     "iopub.status.idle": "2022-02-28T18:10:12.434566Z",
     "shell.execute_reply": "2022-02-28T18:10:12.435108Z",
     "shell.execute_reply.started": "2022-02-28T18:08:55.504669Z"
    },
    "papermill": {
     "duration": 0.083784,
     "end_time": "2022-02-28T18:10:12.435258",
     "exception": false,
     "start_time": "2022-02-28T18:10:12.351474",
     "status": "completed"
    },
    "tags": []
   },
   "outputs": [],
   "source": [
    "current = df.loc[\"Will AI steal UX/UI designers’ job?\"]"
   ]
  },
  {
   "cell_type": "markdown",
   "id": "35c6d4a6",
   "metadata": {
    "papermill": {
     "duration": 0.072382,
     "end_time": "2022-02-28T18:10:12.582713",
     "exception": false,
     "start_time": "2022-02-28T18:10:12.510331",
     "status": "completed"
    },
    "tags": []
   },
   "source": [
    "Calculate similarites using Cosine Similarity."
   ]
  },
  {
   "cell_type": "code",
   "execution_count": 36,
   "id": "269d4936",
   "metadata": {
    "execution": {
     "iopub.execute_input": "2022-02-28T18:10:12.729692Z",
     "iopub.status.busy": "2022-02-28T18:10:12.729150Z",
     "iopub.status.idle": "2022-02-28T18:10:12.740513Z",
     "shell.execute_reply": "2022-02-28T18:10:12.740945Z",
     "shell.execute_reply.started": "2022-02-28T18:08:55.527260Z"
    },
    "papermill": {
     "duration": 0.087785,
     "end_time": "2022-02-28T18:10:12.741117",
     "exception": false,
     "start_time": "2022-02-28T18:10:12.653332",
     "status": "completed"
    },
    "tags": []
   },
   "outputs": [],
   "source": [
    "similarities = df.dot(current)"
   ]
  },
  {
   "cell_type": "markdown",
   "id": "cd57b1d5",
   "metadata": {
    "papermill": {
     "duration": 0.072285,
     "end_time": "2022-02-28T18:10:12.939446",
     "exception": false,
     "start_time": "2022-02-28T18:10:12.867161",
     "status": "completed"
    },
    "tags": []
   },
   "source": [
    "I will merge the original dataframe with the resulted dataframe in order to sort by number of claps."
   ]
  },
  {
   "cell_type": "code",
   "execution_count": 37,
   "id": "a927611d",
   "metadata": {
    "execution": {
     "iopub.execute_input": "2022-02-28T18:10:13.093673Z",
     "iopub.status.busy": "2022-02-28T18:10:13.093120Z",
     "iopub.status.idle": "2022-02-28T18:10:13.111829Z",
     "shell.execute_reply": "2022-02-28T18:10:13.112392Z",
     "shell.execute_reply.started": "2022-02-28T18:08:55.545671Z"
    },
    "papermill": {
     "duration": 0.098689,
     "end_time": "2022-02-28T18:10:13.112544",
     "exception": false,
     "start_time": "2022-02-28T18:10:13.013855",
     "status": "completed"
    },
    "tags": []
   },
   "outputs": [
    {
     "data": {
      "text/html": [
       "<div>\n",
       "<style scoped>\n",
       "    .dataframe tbody tr th:only-of-type {\n",
       "        vertical-align: middle;\n",
       "    }\n",
       "\n",
       "    .dataframe tbody tr th {\n",
       "        vertical-align: top;\n",
       "    }\n",
       "\n",
       "    .dataframe thead th {\n",
       "        text-align: right;\n",
       "    }\n",
       "</style>\n",
       "<table border=\"1\" class=\"dataframe\">\n",
       "  <thead>\n",
       "    <tr style=\"text-align: right;\">\n",
       "      <th></th>\n",
       "      <th>0</th>\n",
       "      <th>claps</th>\n",
       "    </tr>\n",
       "    <tr>\n",
       "      <th>title</th>\n",
       "      <th></th>\n",
       "      <th></th>\n",
       "    </tr>\n",
       "  </thead>\n",
       "  <tbody>\n",
       "    <tr>\n",
       "      <th>Live Prediction of Traffic Accident Risks Using Machine Learning and Google Maps</th>\n",
       "      <td>0.983529</td>\n",
       "      <td>716</td>\n",
       "    </tr>\n",
       "    <tr>\n",
       "      <th>How Machine Learning Made Me Fall in Love with the WNBA</th>\n",
       "      <td>0.993950</td>\n",
       "      <td>304</td>\n",
       "    </tr>\n",
       "    <tr>\n",
       "      <th>Will AI steal UX/UI designers’ job?</th>\n",
       "      <td>1.000000</td>\n",
       "      <td>218</td>\n",
       "    </tr>\n",
       "    <tr>\n",
       "      <th>Predicting Unknown Unknowns</th>\n",
       "      <td>0.997026</td>\n",
       "      <td>142</td>\n",
       "    </tr>\n",
       "    <tr>\n",
       "      <th>On Value Functions, Theory of Life and Bellmann Equation Gymnastics</th>\n",
       "      <td>0.996314</td>\n",
       "      <td>61</td>\n",
       "    </tr>\n",
       "  </tbody>\n",
       "</table>\n",
       "</div>"
      ],
      "text/plain": [
       "                                                           0  claps\n",
       "title                                                              \n",
       "Live Prediction of Traffic Accident Risks Using...  0.983529    716\n",
       "How Machine Learning Made Me Fall in Love with ...  0.993950    304\n",
       "Will AI steal UX/UI designers’ job?                 1.000000    218\n",
       "Predicting Unknown Unknowns                         0.997026    142\n",
       "On Value Functions, Theory of Life and Bellmann...  0.996314     61"
      ]
     },
     "execution_count": 37,
     "metadata": {},
     "output_type": "execute_result"
    }
   ],
   "source": [
    "sims = pd.DataFrame(similarities.nlargest(10))\n",
    "sims = sims.merge(data[[\"title\", \"claps\"]], how='inner', on=\"title\")\n",
    "sims.set_index(\"title\", drop=True, inplace=True)\n",
    "sims.sort_values(by=\"claps\", ascending=False).head()"
   ]
  },
  {
   "cell_type": "markdown",
   "id": "a2a9c9d4",
   "metadata": {
    "papermill": {
     "duration": 0.074695,
     "end_time": "2022-02-28T18:10:13.259247",
     "exception": false,
     "start_time": "2022-02-28T18:10:13.184552",
     "status": "completed"
    },
    "tags": []
   },
   "source": [
    "> Thank you for reading the notebook, let me know what you think about this approach in the comments."
   ]
  },
  {
   "cell_type": "markdown",
   "id": "7328ac3b",
   "metadata": {
    "papermill": {
     "duration": 0.075449,
     "end_time": "2022-02-28T18:10:13.408807",
     "exception": false,
     "start_time": "2022-02-28T18:10:13.333358",
     "status": "completed"
    },
    "tags": []
   },
   "source": [
    "`Omar El Yousfi`"
   ]
  }
 ],
 "metadata": {
  "kernelspec": {
   "display_name": "Python 3",
   "language": "python",
   "name": "python3"
  },
  "language_info": {
   "codemirror_mode": {
    "name": "ipython",
    "version": 3
   },
   "file_extension": ".py",
   "mimetype": "text/x-python",
   "name": "python",
   "nbconvert_exporter": "python",
   "pygments_lexer": "ipython3",
   "version": "3.7.12"
  },
  "papermill": {
   "default_parameters": {},
   "duration": 33.538974,
   "end_time": "2022-02-28T18:10:14.193868",
   "environment_variables": {},
   "exception": null,
   "input_path": "__notebook__.ipynb",
   "output_path": "__notebook__.ipynb",
   "parameters": {},
   "start_time": "2022-02-28T18:09:40.654894",
   "version": "2.3.3"
  }
 },
 "nbformat": 4,
 "nbformat_minor": 5
}
